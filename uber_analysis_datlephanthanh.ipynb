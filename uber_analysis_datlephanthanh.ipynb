{
 "cells": [
  {
   "cell_type": "markdown",
   "execution_count": null,
   "metadata": {},
   "source": [
    "# **Install Sklearn Fuzzy**"
   ]
  },
  {
   "cell_type": "code",
   "execution_count": 1,
   "metadata": {},
   "outputs": [
    {
     "name": "stdout",
     "output_type": "stream",
     "text": [
      "Collecting scikit-fuzzy\r\n",
      "  Downloading scikit-fuzzy-0.4.2.tar.gz (993 kB)\r\n",
      "\u001b[K     |████████████████████████████████| 993 kB 4.2 MB/s \r\n",
      "\u001b[?25hRequirement already satisfied, skipping upgrade: numpy>=1.6.0 in /opt/conda/lib/python3.7/site-packages (from scikit-fuzzy) (1.18.1)\r\n",
      "Requirement already satisfied, skipping upgrade: scipy>=0.9.0 in /opt/conda/lib/python3.7/site-packages (from scikit-fuzzy) (1.4.1)\r\n",
      "Requirement already satisfied, skipping upgrade: networkx>=1.9.0 in /opt/conda/lib/python3.7/site-packages (from scikit-fuzzy) (2.4)\r\n",
      "Requirement already satisfied, skipping upgrade: decorator>=4.3.0 in /opt/conda/lib/python3.7/site-packages (from networkx>=1.9.0->scikit-fuzzy) (4.4.2)\r\n",
      "Building wheels for collected packages: scikit-fuzzy\r\n",
      "  Building wheel for scikit-fuzzy (setup.py) ... \u001b[?25l-\b \b\\\b \bdone\r\n",
      "\u001b[?25h  Created wheel for scikit-fuzzy: filename=scikit_fuzzy-0.4.2-py3-none-any.whl size=894068 sha256=c9ce32f6b905b2030ea022b6d91081faa4fb98c9dc5dd5df287ebdc860bbd52f\r\n",
      "  Stored in directory: /root/.cache/pip/wheels/d5/74/fc/38588a3d2e3f34f74588e6daa3aa5b0a322bd6f9420a707131\r\n",
      "Successfully built scikit-fuzzy\r\n",
      "Installing collected packages: scikit-fuzzy\r\n",
      "Successfully installed scikit-fuzzy-0.4.2\r\n",
      "Note: you may need to restart the kernel to use updated packages.\n"
     ]
    }
   ],
   "source": [
    "pip install -U scikit-fuzzy"
   ]
  },
  {
   "cell_type": "markdown",
   "execution_count": null,
   "metadata": {},
   "source": [
    "# I. Original data"
   ]
  },
  {
   "cell_type": "code",
   "execution_count": 2,
   "metadata": {
    "_cell_guid": "b1076dfc-b9ad-4769-8c92-a6c4dae69d19",
    "_uuid": "8f2839f25d086af736a60e9eeb907d3b93b6e0e5"
   },
   "outputs": [
    {
     "name": "stdout",
     "output_type": "stream",
     "text": [
      "/kaggle/input/uber-pickups-in-new-york-city/Uber-Jan-Feb-FOIL.csv\n",
      "/kaggle/input/uber-pickups-in-new-york-city/uber-raw-data-jul14.csv\n",
      "/kaggle/input/uber-pickups-in-new-york-city/uber-raw-data-may14.csv\n",
      "/kaggle/input/uber-pickups-in-new-york-city/uber-raw-data-apr14.csv\n",
      "/kaggle/input/uber-pickups-in-new-york-city/other-Carmel_B00256.csv\n",
      "/kaggle/input/uber-pickups-in-new-york-city/uber-raw-data-janjune-15.csv\n",
      "/kaggle/input/uber-pickups-in-new-york-city/other-American_B01362.csv\n",
      "/kaggle/input/uber-pickups-in-new-york-city/other-Skyline_B00111.csv\n",
      "/kaggle/input/uber-pickups-in-new-york-city/other-Lyft_B02510.csv\n",
      "/kaggle/input/uber-pickups-in-new-york-city/other-Dial7_B00887.csv\n",
      "/kaggle/input/uber-pickups-in-new-york-city/uber-raw-data-jun14.csv\n",
      "/kaggle/input/uber-pickups-in-new-york-city/other-FHV-services_jan-aug-2015.csv\n",
      "/kaggle/input/uber-pickups-in-new-york-city/uber-raw-data-aug14.csv\n",
      "/kaggle/input/uber-pickups-in-new-york-city/other-Firstclass_B01536.csv\n",
      "/kaggle/input/uber-pickups-in-new-york-city/other-Diplo_B01196.csv\n",
      "/kaggle/input/uber-pickups-in-new-york-city/other-Prestige_B01338.csv\n",
      "/kaggle/input/uber-pickups-in-new-york-city/other-Federal_02216.csv\n",
      "/kaggle/input/uber-pickups-in-new-york-city/uber-raw-data-sep14.csv\n",
      "/kaggle/input/uber-pickups-in-new-york-city/other-Highclass_B01717.csv\n"
     ]
    },
    {
     "name": "stderr",
     "output_type": "stream",
     "text": [
      "/opt/conda/lib/python3.7/site-packages/sklearn/utils/deprecation.py:143: FutureWarning: The sklearn.metrics.classification module is  deprecated in version 0.22 and will be removed in version 0.24. The corresponding classes / functions should instead be imported from sklearn.metrics. Anything that cannot be imported from sklearn.metrics is now part of the private API.\n",
      "  warnings.warn(message, FutureWarning)\n"
     ]
    }
   ],
   "source": [
    "# This Python 3 environment comes with many helpful analytics libraries installed\n",
    "# It is defined by the kaggle/python Docker image: https://github.com/kaggle/docker-python\n",
    "# For example, here's several helpful packages to load\n",
    "\n",
    "import numpy as np # linear algebra\n",
    "import pandas as pd # data processing, CSV file I/O (e.g. pd.read_csv)\n",
    "import matplotlib.pyplot as plt\n",
    "import seaborn as sb\n",
    "import folium #visualize map\n",
    "from pandas.tseries.holiday import USFederalHolidayCalendar as calendar #calendar\n",
    "from sklearn.cluster import KMeans #k-means clustering\n",
    "from yellowbrick.cluster import KElbowVisualizer #Elbow visualize K-means\n",
    "from skfuzzy.cluster import cmeans, cmeans_predict #fuzzy clustering\n",
    "from sklearn import mixture #Gaussian Mixture Modelling\n",
    "from sklearn.mixture import GaussianMixture\n",
    "\n",
    "# Input data files are available in the read-only \"../input/\" directory\n",
    "# For example, running this (by clicking run or pressing Shift+Enter) will list all files under the input directory\n",
    "\n",
    "import os\n",
    "for dirname, _, filenames in os.walk('/kaggle/input'):\n",
    "    for filename in filenames:\n",
    "        print(os.path.join(dirname, filename))\n",
    "\n"
   ]
  },
  {
   "cell_type": "markdown",
   "execution_count": null,
   "metadata": {},
   "source": [
    "**#Read dataset**"
   ]
  },
  {
   "cell_type": "code",
   "execution_count": 3,
   "metadata": {},
   "outputs": [],
   "source": [
    "df1 = pd.read_csv(\"/kaggle/input/uber-pickups-in-new-york-city/uber-raw-data-apr14.csv\")\n",
    "df2 = pd.read_csv(\"/kaggle/input/uber-pickups-in-new-york-city/uber-raw-data-aug14.csv\")\n",
    "df3 = pd.read_csv(\"/kaggle/input/uber-pickups-in-new-york-city/uber-raw-data-jul14.csv\")\n",
    "df4 = pd.read_csv(\"/kaggle/input/uber-pickups-in-new-york-city/uber-raw-data-jun14.csv\")\n",
    "df5 = pd.read_csv(\"/kaggle/input/uber-pickups-in-new-york-city/uber-raw-data-may14.csv\")\n",
    "df6 = pd.read_csv(\"/kaggle/input/uber-pickups-in-new-york-city/uber-raw-data-sep14.csv\")"
   ]
  },
  {
   "cell_type": "markdown",
   "execution_count": null,
   "metadata": {},
   "source": [
    "**#Row bind using pandas concatenate**"
   ]
  },
  {
   "cell_type": "code",
   "execution_count": 4,
   "metadata": {},
   "outputs": [],
   "source": [
    "df_ori = pd.concat([df1, df2, df3, df4, df5, df6])"
   ]
  },
  {
   "cell_type": "code",
   "execution_count": 5,
   "metadata": {},
   "outputs": [
    {
     "data": {
      "text/plain": [
       "(4534327, 4)"
      ]
     },
     "execution_count": 5,
     "metadata": {},
     "output_type": "execute_result"
    }
   ],
   "source": [
    "df_ori.shape"
   ]
  },
  {
   "cell_type": "code",
   "execution_count": 6,
   "metadata": {},
   "outputs": [
    {
     "data": {
      "text/html": [
       "<div>\n",
       "<style scoped>\n",
       "    .dataframe tbody tr th:only-of-type {\n",
       "        vertical-align: middle;\n",
       "    }\n",
       "\n",
       "    .dataframe tbody tr th {\n",
       "        vertical-align: top;\n",
       "    }\n",
       "\n",
       "    .dataframe thead th {\n",
       "        text-align: right;\n",
       "    }\n",
       "</style>\n",
       "<table border=\"1\" class=\"dataframe\">\n",
       "  <thead>\n",
       "    <tr style=\"text-align: right;\">\n",
       "      <th></th>\n",
       "      <th>Date/Time</th>\n",
       "      <th>Lat</th>\n",
       "      <th>Lon</th>\n",
       "      <th>Base</th>\n",
       "    </tr>\n",
       "  </thead>\n",
       "  <tbody>\n",
       "    <tr>\n",
       "      <th>0</th>\n",
       "      <td>4/1/2014 0:11:00</td>\n",
       "      <td>40.7690</td>\n",
       "      <td>-73.9549</td>\n",
       "      <td>B02512</td>\n",
       "    </tr>\n",
       "    <tr>\n",
       "      <th>1</th>\n",
       "      <td>4/1/2014 0:17:00</td>\n",
       "      <td>40.7267</td>\n",
       "      <td>-74.0345</td>\n",
       "      <td>B02512</td>\n",
       "    </tr>\n",
       "    <tr>\n",
       "      <th>2</th>\n",
       "      <td>4/1/2014 0:21:00</td>\n",
       "      <td>40.7316</td>\n",
       "      <td>-73.9873</td>\n",
       "      <td>B02512</td>\n",
       "    </tr>\n",
       "    <tr>\n",
       "      <th>3</th>\n",
       "      <td>4/1/2014 0:28:00</td>\n",
       "      <td>40.7588</td>\n",
       "      <td>-73.9776</td>\n",
       "      <td>B02512</td>\n",
       "    </tr>\n",
       "    <tr>\n",
       "      <th>4</th>\n",
       "      <td>4/1/2014 0:33:00</td>\n",
       "      <td>40.7594</td>\n",
       "      <td>-73.9722</td>\n",
       "      <td>B02512</td>\n",
       "    </tr>\n",
       "  </tbody>\n",
       "</table>\n",
       "</div>"
      ],
      "text/plain": [
       "          Date/Time      Lat      Lon    Base\n",
       "0  4/1/2014 0:11:00  40.7690 -73.9549  B02512\n",
       "1  4/1/2014 0:17:00  40.7267 -74.0345  B02512\n",
       "2  4/1/2014 0:21:00  40.7316 -73.9873  B02512\n",
       "3  4/1/2014 0:28:00  40.7588 -73.9776  B02512\n",
       "4  4/1/2014 0:33:00  40.7594 -73.9722  B02512"
      ]
     },
     "execution_count": 6,
     "metadata": {},
     "output_type": "execute_result"
    }
   ],
   "source": [
    "df_ori.head()"
   ]
  },
  {
   "cell_type": "markdown",
   "execution_count": null,
   "metadata": {},
   "source": [
    "# 1. K-means clustering"
   ]
  },
  {
   "cell_type": "markdown",
   "execution_count": null,
   "metadata": {},
   "source": [
    "#Selecting Feature"
   ]
  },
  {
   "cell_type": "code",
   "execution_count": 7,
   "metadata": {},
   "outputs": [
    {
     "data": {
      "text/plain": [
       "Lat    float64\n",
       "Lon    float64\n",
       "dtype: object"
      ]
     },
     "execution_count": 7,
     "metadata": {},
     "output_type": "execute_result"
    }
   ],
   "source": [
    "clus_k_ori = df_ori[['Lat', 'Lon']]\n",
    "clus_k_ori.dtypes"
   ]
  },
  {
   "cell_type": "markdown",
   "execution_count": null,
   "metadata": {},
   "source": [
    "#Plot the number of cluster"
   ]
  },
  {
   "cell_type": "code",
   "execution_count": 8,
   "metadata": {},
   "outputs": [
    {
     "data": {
      "image/png": "[encoded data removed]",
      "text/plain": [
       "<Figure size 576x396 with 2 Axes>"
      ]
     },
     "metadata": {},
     "output_type": "display_data"
    },
    {
     "data": {
      "text/plain": [
       "<matplotlib.axes._subplots.AxesSubplot at 0x7f7eefb78750>"
      ]
     },
     "execution_count": 8,
     "metadata": {},
     "output_type": "execute_result"
    }
   ],
   "source": [
    "import matplotlib.pyplot as plt\n",
    "from sklearn.cluster import KMeans\n",
    "from yellowbrick.cluster import KElbowVisualizer\n",
    "\n",
    "model_ori = KMeans()\n",
    "visualizer = KElbowVisualizer(model_ori, k = (1, 18)) #k = 1 to 17\n",
    "visualizer.fit(clus_k_ori)\n",
    "visualizer.show()"
   ]
  },
  {
   "cell_type": "markdown",
   "execution_count": null,
   "metadata": {},
   "source": [
    "#Assign number of cluster K-Means Algorithm"
   ]
  },
  {
   "cell_type": "code",
   "execution_count": 9,
   "metadata": {},
   "outputs": [
    {
     "data": {
      "text/plain": [
       "KMeans(n_clusters=5, random_state=0)"
      ]
     },
     "execution_count": 9,
     "metadata": {},
     "output_type": "execute_result"
    }
   ],
   "source": [
    "kmeans_ori = KMeans(n_clusters = 5, random_state = 0) #k = 5\n",
    "kmeans_ori.fit(clus_k_ori)"
   ]
  },
  {
   "cell_type": "markdown",
   "execution_count": null,
   "metadata": {},
   "source": [
    "#Storing the Centroids"
   ]
  },
  {
   "cell_type": "code",
   "execution_count": 10,
   "metadata": {},
   "outputs": [
    {
     "data": {
      "text/plain": [
       "array([[ 40.71600413, -73.98971408],\n",
       "       [ 40.66573796, -73.76418117],\n",
       "       [ 40.79662299, -73.87899073],\n",
       "       [ 40.76235269, -73.97687068],\n",
       "       [ 40.69504708, -74.20164878]])"
      ]
     },
     "execution_count": 10,
     "metadata": {},
     "output_type": "execute_result"
    }
   ],
   "source": [
    "centroids_k_ori = kmeans_ori.cluster_centers_\n",
    "centroids_k_ori"
   ]
  },
  {
   "cell_type": "code",
   "execution_count": 11,
   "metadata": {},
   "outputs": [],
   "source": [
    "clocation_k_ori = pd.DataFrame(centroids_k_ori, columns = ['Latitude', 'Longitude'])"
   ]
  },
  {
   "cell_type": "code",
   "execution_count": 12,
   "metadata": {},
   "outputs": [
    {
     "data": {
      "text/html": [
       "<div>\n",
       "<style scoped>\n",
       "    .dataframe tbody tr th:only-of-type {\n",
       "        vertical-align: middle;\n",
       "    }\n",
       "\n",
       "    .dataframe tbody tr th {\n",
       "        vertical-align: top;\n",
       "    }\n",
       "\n",
       "    .dataframe thead th {\n",
       "        text-align: right;\n",
       "    }\n",
       "</style>\n",
       "<table border=\"1\" class=\"dataframe\">\n",
       "  <thead>\n",
       "    <tr style=\"text-align: right;\">\n",
       "      <th></th>\n",
       "      <th>Latitude</th>\n",
       "      <th>Longitude</th>\n",
       "    </tr>\n",
       "  </thead>\n",
       "  <tbody>\n",
       "    <tr>\n",
       "      <th>0</th>\n",
       "      <td>40.716004</td>\n",
       "      <td>-73.989714</td>\n",
       "    </tr>\n",
       "    <tr>\n",
       "      <th>1</th>\n",
       "      <td>40.665738</td>\n",
       "      <td>-73.764181</td>\n",
       "    </tr>\n",
       "    <tr>\n",
       "      <th>2</th>\n",
       "      <td>40.796623</td>\n",
       "      <td>-73.878991</td>\n",
       "    </tr>\n",
       "    <tr>\n",
       "      <th>3</th>\n",
       "      <td>40.762353</td>\n",
       "      <td>-73.976871</td>\n",
       "    </tr>\n",
       "    <tr>\n",
       "      <th>4</th>\n",
       "      <td>40.695047</td>\n",
       "      <td>-74.201649</td>\n",
       "    </tr>\n",
       "  </tbody>\n",
       "</table>\n",
       "</div>"
      ],
      "text/plain": [
       "    Latitude  Longitude\n",
       "0  40.716004 -73.989714\n",
       "1  40.665738 -73.764181\n",
       "2  40.796623 -73.878991\n",
       "3  40.762353 -73.976871\n",
       "4  40.695047 -74.201649"
      ]
     },
     "execution_count": 12,
     "metadata": {},
     "output_type": "execute_result"
    }
   ],
   "source": [
    "clocation_k_ori"
   ]
  },
  {
   "cell_type": "markdown",
   "execution_count": null,
   "metadata": {},
   "source": [
    "#Visualize Centroids using map"
   ]
  },
  {
   "cell_type": "code",
   "execution_count": 13,
   "metadata": {},
   "outputs": [
    {
     "name": "stderr",
     "output_type": "stream",
     "text": [
      "/opt/conda/lib/python3.7/site-packages/ipykernel_launcher.py:1: MatplotlibDeprecationWarning: Support for uppercase single-letter colors is deprecated since Matplotlib 3.1 and will be removed in 3.3; please use lowercase instead.\n",
      "  \"\"\"Entry point for launching an IPython kernel.\n"
     ]
    },
    {
     "data": {
      "text/plain": [
       "<matplotlib.collections.PathCollection at 0x7f7eef840710>"
      ]
     },
     "execution_count": 13,
     "metadata": {},
     "output_type": "execute_result"
    },
    {
     "data": {
      "image/png": "[encoded data removed]",
      "text/plain": [
       "<Figure size 576x396 with 1 Axes>"
      ]
     },
     "metadata": {},
     "output_type": "display_data"
    }
   ],
   "source": [
    "plt.scatter(clocation_k_ori['Latitude'], clocation_k_ori['Longitude'], marker = \"x\", color = 'R', s = 200)"
   ]
  },
  {
   "cell_type": "code",
   "execution_count": 14,
   "metadata": {},
   "outputs": [
    {
     "data": {
      "text/html": [
       "<div style=\"width:100%;\"><div style=\"position:relative;width:100%;height:0;padding-bottom:60%;\"><span style=\"color:#565656\">Make this Notebook Trusted to load map: File -> Trust Notebook</span><iframe src=\"about:blank\" style=\"position:absolute;width:100%;height:100%;left:0;top:0;border:none !important;\" data-html=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 onload=\"this.contentDocument.open();this.contentDocument.write(atob(this.getAttribute('data-html')));this.contentDocument.close();\" allowfullscreen webkitallowfullscreen mozallowfullscreen></iframe></div></div>"
      ],
      "text/plain": [
       "<folium.folium.Map at 0x7f7eef7f3890>"
      ]
     },
     "execution_count": 14,
     "metadata": {},
     "output_type": "execute_result"
    }
   ],
   "source": [
    "centroid_k_ori = clocation_k_ori.values.tolist()\n",
    "\n",
    "map_k_ori = folium.Map(location = [40.71600413400166, -73.98971408426613], zoom_start = 10)\n",
    "for point in range(0, len(centroid_k_ori)):\n",
    "    folium.Marker(centroid_k_ori[point], popup = centroid_k_ori[point]).add_to(map_k_ori)\n",
    "\n",
    "map_k_ori"
   ]
  },
  {
   "cell_type": "markdown",
   "execution_count": null,
   "metadata": {},
   "source": [
    "#Grouping and visualizing the total number of cluster"
   ]
  },
  {
   "cell_type": "code",
   "execution_count": 15,
   "metadata": {},
   "outputs": [
    {
     "data": {
      "text/plain": [
       "array([3, 0, 0, ..., 2, 0, 0], dtype=int32)"
      ]
     },
     "execution_count": 15,
     "metadata": {},
     "output_type": "execute_result"
    }
   ],
   "source": [
    "label_k_ori = kmeans_ori.labels_\n",
    "label_k_ori"
   ]
  },
  {
   "cell_type": "code",
   "execution_count": 16,
   "metadata": {},
   "outputs": [
    {
     "data": {
      "text/html": [
       "<div>\n",
       "<style scoped>\n",
       "    .dataframe tbody tr th:only-of-type {\n",
       "        vertical-align: middle;\n",
       "    }\n",
       "\n",
       "    .dataframe tbody tr th {\n",
       "        vertical-align: top;\n",
       "    }\n",
       "\n",
       "    .dataframe thead th {\n",
       "        text-align: right;\n",
       "    }\n",
       "</style>\n",
       "<table border=\"1\" class=\"dataframe\">\n",
       "  <thead>\n",
       "    <tr style=\"text-align: right;\">\n",
       "      <th></th>\n",
       "      <th>Date/Time</th>\n",
       "      <th>Lat</th>\n",
       "      <th>Lon</th>\n",
       "      <th>Base</th>\n",
       "      <th>Clusters</th>\n",
       "    </tr>\n",
       "  </thead>\n",
       "  <tbody>\n",
       "    <tr>\n",
       "      <th>0</th>\n",
       "      <td>4/1/2014 0:11:00</td>\n",
       "      <td>40.7690</td>\n",
       "      <td>-73.9549</td>\n",
       "      <td>B02512</td>\n",
       "      <td>3</td>\n",
       "    </tr>\n",
       "    <tr>\n",
       "      <th>1</th>\n",
       "      <td>4/1/2014 0:17:00</td>\n",
       "      <td>40.7267</td>\n",
       "      <td>-74.0345</td>\n",
       "      <td>B02512</td>\n",
       "      <td>0</td>\n",
       "    </tr>\n",
       "    <tr>\n",
       "      <th>2</th>\n",
       "      <td>4/1/2014 0:21:00</td>\n",
       "      <td>40.7316</td>\n",
       "      <td>-73.9873</td>\n",
       "      <td>B02512</td>\n",
       "      <td>0</td>\n",
       "    </tr>\n",
       "    <tr>\n",
       "      <th>3</th>\n",
       "      <td>4/1/2014 0:28:00</td>\n",
       "      <td>40.7588</td>\n",
       "      <td>-73.9776</td>\n",
       "      <td>B02512</td>\n",
       "      <td>3</td>\n",
       "    </tr>\n",
       "    <tr>\n",
       "      <th>4</th>\n",
       "      <td>4/1/2014 0:33:00</td>\n",
       "      <td>40.7594</td>\n",
       "      <td>-73.9722</td>\n",
       "      <td>B02512</td>\n",
       "      <td>3</td>\n",
       "    </tr>\n",
       "    <tr>\n",
       "      <th>...</th>\n",
       "      <td>...</td>\n",
       "      <td>...</td>\n",
       "      <td>...</td>\n",
       "      <td>...</td>\n",
       "      <td>...</td>\n",
       "    </tr>\n",
       "    <tr>\n",
       "      <th>1028131</th>\n",
       "      <td>9/30/2014 22:57:00</td>\n",
       "      <td>40.7668</td>\n",
       "      <td>-73.9845</td>\n",
       "      <td>B02764</td>\n",
       "      <td>3</td>\n",
       "    </tr>\n",
       "    <tr>\n",
       "      <th>1028132</th>\n",
       "      <td>9/30/2014 22:57:00</td>\n",
       "      <td>40.6911</td>\n",
       "      <td>-74.1773</td>\n",
       "      <td>B02764</td>\n",
       "      <td>4</td>\n",
       "    </tr>\n",
       "    <tr>\n",
       "      <th>1028133</th>\n",
       "      <td>9/30/2014 22:58:00</td>\n",
       "      <td>40.8519</td>\n",
       "      <td>-73.9319</td>\n",
       "      <td>B02764</td>\n",
       "      <td>2</td>\n",
       "    </tr>\n",
       "    <tr>\n",
       "      <th>1028134</th>\n",
       "      <td>9/30/2014 22:58:00</td>\n",
       "      <td>40.7081</td>\n",
       "      <td>-74.0066</td>\n",
       "      <td>B02764</td>\n",
       "      <td>0</td>\n",
       "    </tr>\n",
       "    <tr>\n",
       "      <th>1028135</th>\n",
       "      <td>9/30/2014 22:58:00</td>\n",
       "      <td>40.7140</td>\n",
       "      <td>-73.9496</td>\n",
       "      <td>B02764</td>\n",
       "      <td>0</td>\n",
       "    </tr>\n",
       "  </tbody>\n",
       "</table>\n",
       "<p>4534327 rows × 5 columns</p>\n",
       "</div>"
      ],
      "text/plain": [
       "                  Date/Time      Lat      Lon    Base  Clusters\n",
       "0          4/1/2014 0:11:00  40.7690 -73.9549  B02512         3\n",
       "1          4/1/2014 0:17:00  40.7267 -74.0345  B02512         0\n",
       "2          4/1/2014 0:21:00  40.7316 -73.9873  B02512         0\n",
       "3          4/1/2014 0:28:00  40.7588 -73.9776  B02512         3\n",
       "4          4/1/2014 0:33:00  40.7594 -73.9722  B02512         3\n",
       "...                     ...      ...      ...     ...       ...\n",
       "1028131  9/30/2014 22:57:00  40.7668 -73.9845  B02764         3\n",
       "1028132  9/30/2014 22:57:00  40.6911 -74.1773  B02764         4\n",
       "1028133  9/30/2014 22:58:00  40.8519 -73.9319  B02764         2\n",
       "1028134  9/30/2014 22:58:00  40.7081 -74.0066  B02764         0\n",
       "1028135  9/30/2014 22:58:00  40.7140 -73.9496  B02764         0\n",
       "\n",
       "[4534327 rows x 5 columns]"
      ]
     },
     "execution_count": 16,
     "metadata": {},
     "output_type": "execute_result"
    }
   ],
   "source": [
    "df_new_k = df_ori.copy()\n",
    "df_new_k['Clusters'] = label_k_ori\n",
    "df_new_k"
   ]
  },
  {
   "cell_type": "code",
   "execution_count": 17,
   "metadata": {},
   "outputs": [
    {
     "name": "stderr",
     "output_type": "stream",
     "text": [
      "/opt/conda/lib/python3.7/site-packages/seaborn/categorical.py:3669: UserWarning: The `factorplot` function has been renamed to `catplot`. The original name will be removed in a future release. Please update your code. Note that the default `kind` in `factorplot` (`'point'`) has changed `'strip'` in `catplot`.\n",
      "  warnings.warn(msg)\n",
      "/opt/conda/lib/python3.7/site-packages/seaborn/categorical.py:3675: UserWarning: The `size` parameter has been renamed to `height`; please update your code.\n",
      "  warnings.warn(msg, UserWarning)\n"
     ]
    },
    {
     "data": {
      "text/plain": [
       "<seaborn.axisgrid.FacetGrid at 0x7f7eef7ef9d0>"
      ]
     },
     "execution_count": 17,
     "metadata": {},
     "output_type": "execute_result"
    },
    {
     "data": {
      "image/png": "[encoded data removed]",
      "text/plain": [
       "<Figure size 1008x504 with 1 Axes>"
      ]
     },
     "metadata": {},
     "output_type": "display_data"
    }
   ],
   "source": [
    "sb.factorplot(data = df_new_k, x = \"Clusters\", kind = \"count\", size = 7, aspect = 2)"
   ]
  },
  {
   "cell_type": "markdown",
   "execution_count": null,
   "metadata": {},
   "source": [
    "#Compare the cluster"
   ]
  },
  {
   "cell_type": "code",
   "execution_count": 18,
   "metadata": {},
   "outputs": [
    {
     "name": "stdout",
     "output_type": "stream",
     "text": [
      "2052540 2054339\n"
     ]
    }
   ],
   "source": [
    "count_3 = 0\n",
    "count_0 = 0\n",
    "for value in df_new_k['Clusters']:\n",
    "    if value == 3:\n",
    "        count_3 += 1\n",
    "    if value == 0:\n",
    "        count_0 += 1\n",
    "print(count_0, count_3)"
   ]
  },
  {
   "cell_type": "markdown",
   "execution_count": null,
   "metadata": {},
   "source": [
    "#Predict cluster for new location"
   ]
  },
  {
   "cell_type": "code",
   "execution_count": 19,
   "metadata": {},
   "outputs": [
    {
     "data": {
      "text/plain": [
       "array([4], dtype=int32)"
      ]
     },
     "execution_count": 19,
     "metadata": {},
     "output_type": "execute_result"
    }
   ],
   "source": [
    "new_location_ori = [(40.86, -75.56)]\n",
    "kmeans_ori.predict(new_location_ori)"
   ]
  },
  {
   "cell_type": "markdown",
   "execution_count": null,
   "metadata": {},
   "source": [
    "# 2. Sklearn Fuzzy"
   ]
  },
  {
   "cell_type": "markdown",
   "execution_count": null,
   "metadata": {},
   "source": [
    "#Selecting Feature"
   ]
  },
  {
   "cell_type": "code",
   "execution_count": 20,
   "metadata": {},
   "outputs": [],
   "source": [
    "clus_fuz_ori = df_ori[['Lat', 'Lon']]"
   ]
  },
  {
   "cell_type": "markdown",
   "execution_count": null,
   "metadata": {},
   "source": [
    "#For loop to determine the number of cluster"
   ]
  },
  {
   "cell_type": "code",
   "execution_count": 21,
   "metadata": {
    "collapsed": true
   },
   "outputs": [],
   "source": [
    "fpcs_ori = []\n",
    "\n",
    "# n_cluster = 1 to 11\n",
    "for n_cluster in range(1, 11):\n",
    "    cntr, u, u0, d, jm, p, fpc_ori = cmeans(clus_fuz_ori.T, n_cluster, 2 , error=0.01, maxiter=1000)\n",
    "    fpcs_ori.append(fpc_ori)"
   ]
  },
  {
   "cell_type": "markdown",
   "execution_count": null,
   "metadata": {},
   "source": [
    "#Plot the number of centers"
   ]
  },
  {
   "cell_type": "code",
   "execution_count": 22,
   "metadata": {},
   "outputs": [
    {
     "data": {
      "text/plain": [
       "Text(0, 0.5, 'Fuzzy partition coefficient')"
      ]
     },
     "execution_count": 22,
     "metadata": {},
     "output_type": "execute_result"
    },
    {
     "data": {
      "image/png": "[encoded data removed]",
      "text/plain": [
       "<Figure size 576x396 with 1 Axes>"
      ]
     },
     "metadata": {},
     "output_type": "display_data"
    }
   ],
   "source": [
    "fig, ax = plt.subplots()\n",
    "ax.plot(np.r_[1:11], fpcs_ori)\n",
    "ax.set_xlabel(\"Number of centers\")\n",
    "ax.set_ylabel(\"Fuzzy partition coefficient\")"
   ]
  },
  {
   "cell_type": "code",
   "execution_count": 23,
   "metadata": {},
   "outputs": [],
   "source": [
    "cntr_ori, u_orig, _, _, _, _, _ = cmeans(clus_fuz_ori.T, 5, 2 , error=0.01, maxiter=1000)"
   ]
  },
  {
   "cell_type": "code",
   "execution_count": 24,
   "metadata": {},
   "outputs": [],
   "source": [
    "u_ori, u0, d, jm, p, pc = cmeans_predict(clus_fuz_ori.T, cntr_ori, 2 , error=0.01, maxiter=1000)"
   ]
  },
  {
   "cell_type": "markdown",
   "execution_count": null,
   "metadata": {},
   "source": [
    "#Storing the Centroid"
   ]
  },
  {
   "cell_type": "code",
   "execution_count": 25,
   "metadata": {},
   "outputs": [
    {
     "data": {
      "text/plain": [
       "array([[ 40.65738949, -73.78402223],\n",
       "       [ 40.68982971, -73.96747667],\n",
       "       [ 40.75663825, -73.98045446],\n",
       "       [ 40.72723414, -73.99936347],\n",
       "       [ 40.78029855, -73.94938282]])"
      ]
     },
     "execution_count": 25,
     "metadata": {},
     "output_type": "execute_result"
    }
   ],
   "source": [
    "centroids_fuz_ori = cntr_ori\n",
    "centroids_fuz_ori"
   ]
  },
  {
   "cell_type": "code",
   "execution_count": 26,
   "metadata": {},
   "outputs": [
    {
     "data": {
      "text/html": [
       "<div>\n",
       "<style scoped>\n",
       "    .dataframe tbody tr th:only-of-type {\n",
       "        vertical-align: middle;\n",
       "    }\n",
       "\n",
       "    .dataframe tbody tr th {\n",
       "        vertical-align: top;\n",
       "    }\n",
       "\n",
       "    .dataframe thead th {\n",
       "        text-align: right;\n",
       "    }\n",
       "</style>\n",
       "<table border=\"1\" class=\"dataframe\">\n",
       "  <thead>\n",
       "    <tr style=\"text-align: right;\">\n",
       "      <th></th>\n",
       "      <th>Latitude</th>\n",
       "      <th>Longitude</th>\n",
       "    </tr>\n",
       "  </thead>\n",
       "  <tbody>\n",
       "    <tr>\n",
       "      <th>0</th>\n",
       "      <td>40.657389</td>\n",
       "      <td>-73.784022</td>\n",
       "    </tr>\n",
       "    <tr>\n",
       "      <th>1</th>\n",
       "      <td>40.689830</td>\n",
       "      <td>-73.967477</td>\n",
       "    </tr>\n",
       "    <tr>\n",
       "      <th>2</th>\n",
       "      <td>40.756638</td>\n",
       "      <td>-73.980454</td>\n",
       "    </tr>\n",
       "    <tr>\n",
       "      <th>3</th>\n",
       "      <td>40.727234</td>\n",
       "      <td>-73.999363</td>\n",
       "    </tr>\n",
       "    <tr>\n",
       "      <th>4</th>\n",
       "      <td>40.780299</td>\n",
       "      <td>-73.949383</td>\n",
       "    </tr>\n",
       "  </tbody>\n",
       "</table>\n",
       "</div>"
      ],
      "text/plain": [
       "    Latitude  Longitude\n",
       "0  40.657389 -73.784022\n",
       "1  40.689830 -73.967477\n",
       "2  40.756638 -73.980454\n",
       "3  40.727234 -73.999363\n",
       "4  40.780299 -73.949383"
      ]
     },
     "execution_count": 26,
     "metadata": {},
     "output_type": "execute_result"
    }
   ],
   "source": [
    "clocation_fuz_ori = pd.DataFrame(centroids_fuz_ori, columns = ['Latitude', 'Longitude'])\n",
    "clocation_fuz_ori"
   ]
  },
  {
   "cell_type": "markdown",
   "execution_count": null,
   "metadata": {},
   "source": [
    "#Visualize Centroids"
   ]
  },
  {
   "cell_type": "code",
   "execution_count": 27,
   "metadata": {},
   "outputs": [
    {
     "data": {
      "text/plain": [
       "<matplotlib.collections.PathCollection at 0x7f7eef650b90>"
      ]
     },
     "execution_count": 27,
     "metadata": {},
     "output_type": "execute_result"
    },
    {
     "data": {
      "image/png": "[encoded data removed]",
      "text/plain": [
       "<Figure size 576x396 with 1 Axes>"
      ]
     },
     "metadata": {},
     "output_type": "display_data"
    }
   ],
   "source": [
    "plt.scatter(clocation_fuz_ori['Latitude'], clocation_fuz_ori['Longitude'], marker = \"x\", color = 'R', s = 200)"
   ]
  },
  {
   "cell_type": "code",
   "execution_count": 28,
   "metadata": {},
   "outputs": [
    {
     "data": {
      "text/html": [
       "<div style=\"width:100%;\"><div style=\"position:relative;width:100%;height:0;padding-bottom:60%;\"><span style=\"color:#565656\">Make this Notebook Trusted to load map: File -> Trust Notebook</span><iframe src=\"about:blank\" style=\"position:absolute;width:100%;height:100%;left:0;top:0;border:none !important;\" data-html=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 onload=\"this.contentDocument.open();this.contentDocument.write(atob(this.getAttribute('data-html')));this.contentDocument.close();\" allowfullscreen webkitallowfullscreen mozallowfullscreen></iframe></div></div>"
      ],
      "text/plain": [
       "<folium.folium.Map at 0x7f7eef60a090>"
      ]
     },
     "execution_count": 28,
     "metadata": {},
     "output_type": "execute_result"
    }
   ],
   "source": [
    "centroid_fuz_ori = clocation_fuz_ori.values.tolist()\n",
    "\n",
    "map_fuz_ori = folium.Map(location = [40.71600413400166, -73.98971408426613], zoom_start = 10)\n",
    "for point in range(0, len(centroid_fuz_ori)):\n",
    "    folium.Marker(centroid_fuz_ori[point], popup = centroid_fuz_ori[point]).add_to(map_fuz_ori)\n",
    "\n",
    "map_fuz_ori"
   ]
  },
  {
   "cell_type": "markdown",
   "execution_count": null,
   "metadata": {},
   "source": [
    "#Grouping and visualizing the total number of clusters"
   ]
  },
  {
   "cell_type": "code",
   "execution_count": 29,
   "metadata": {},
   "outputs": [
    {
     "data": {
      "text/plain": [
       "array([4, 3, 3, ..., 4, 3, 1])"
      ]
     },
     "execution_count": 29,
     "metadata": {},
     "output_type": "execute_result"
    }
   ],
   "source": [
    "label_fuz_ori = np.argmax(u_ori, axis = 0)\n",
    "label_fuz_ori"
   ]
  },
  {
   "cell_type": "code",
   "execution_count": 30,
   "metadata": {},
   "outputs": [
    {
     "data": {
      "text/html": [
       "<div>\n",
       "<style scoped>\n",
       "    .dataframe tbody tr th:only-of-type {\n",
       "        vertical-align: middle;\n",
       "    }\n",
       "\n",
       "    .dataframe tbody tr th {\n",
       "        vertical-align: top;\n",
       "    }\n",
       "\n",
       "    .dataframe thead th {\n",
       "        text-align: right;\n",
       "    }\n",
       "</style>\n",
       "<table border=\"1\" class=\"dataframe\">\n",
       "  <thead>\n",
       "    <tr style=\"text-align: right;\">\n",
       "      <th></th>\n",
       "      <th>Date/Time</th>\n",
       "      <th>Lat</th>\n",
       "      <th>Lon</th>\n",
       "      <th>Base</th>\n",
       "      <th>Clusters</th>\n",
       "    </tr>\n",
       "  </thead>\n",
       "  <tbody>\n",
       "    <tr>\n",
       "      <th>0</th>\n",
       "      <td>4/1/2014 0:11:00</td>\n",
       "      <td>40.7690</td>\n",
       "      <td>-73.9549</td>\n",
       "      <td>B02512</td>\n",
       "      <td>4</td>\n",
       "    </tr>\n",
       "    <tr>\n",
       "      <th>1</th>\n",
       "      <td>4/1/2014 0:17:00</td>\n",
       "      <td>40.7267</td>\n",
       "      <td>-74.0345</td>\n",
       "      <td>B02512</td>\n",
       "      <td>3</td>\n",
       "    </tr>\n",
       "    <tr>\n",
       "      <th>2</th>\n",
       "      <td>4/1/2014 0:21:00</td>\n",
       "      <td>40.7316</td>\n",
       "      <td>-73.9873</td>\n",
       "      <td>B02512</td>\n",
       "      <td>3</td>\n",
       "    </tr>\n",
       "    <tr>\n",
       "      <th>3</th>\n",
       "      <td>4/1/2014 0:28:00</td>\n",
       "      <td>40.7588</td>\n",
       "      <td>-73.9776</td>\n",
       "      <td>B02512</td>\n",
       "      <td>2</td>\n",
       "    </tr>\n",
       "    <tr>\n",
       "      <th>4</th>\n",
       "      <td>4/1/2014 0:33:00</td>\n",
       "      <td>40.7594</td>\n",
       "      <td>-73.9722</td>\n",
       "      <td>B02512</td>\n",
       "      <td>2</td>\n",
       "    </tr>\n",
       "    <tr>\n",
       "      <th>...</th>\n",
       "      <td>...</td>\n",
       "      <td>...</td>\n",
       "      <td>...</td>\n",
       "      <td>...</td>\n",
       "      <td>...</td>\n",
       "    </tr>\n",
       "    <tr>\n",
       "      <th>1028131</th>\n",
       "      <td>9/30/2014 22:57:00</td>\n",
       "      <td>40.7668</td>\n",
       "      <td>-73.9845</td>\n",
       "      <td>B02764</td>\n",
       "      <td>2</td>\n",
       "    </tr>\n",
       "    <tr>\n",
       "      <th>1028132</th>\n",
       "      <td>9/30/2014 22:57:00</td>\n",
       "      <td>40.6911</td>\n",
       "      <td>-74.1773</td>\n",
       "      <td>B02764</td>\n",
       "      <td>3</td>\n",
       "    </tr>\n",
       "    <tr>\n",
       "      <th>1028133</th>\n",
       "      <td>9/30/2014 22:58:00</td>\n",
       "      <td>40.8519</td>\n",
       "      <td>-73.9319</td>\n",
       "      <td>B02764</td>\n",
       "      <td>4</td>\n",
       "    </tr>\n",
       "    <tr>\n",
       "      <th>1028134</th>\n",
       "      <td>9/30/2014 22:58:00</td>\n",
       "      <td>40.7081</td>\n",
       "      <td>-74.0066</td>\n",
       "      <td>B02764</td>\n",
       "      <td>3</td>\n",
       "    </tr>\n",
       "    <tr>\n",
       "      <th>1028135</th>\n",
       "      <td>9/30/2014 22:58:00</td>\n",
       "      <td>40.7140</td>\n",
       "      <td>-73.9496</td>\n",
       "      <td>B02764</td>\n",
       "      <td>1</td>\n",
       "    </tr>\n",
       "  </tbody>\n",
       "</table>\n",
       "<p>4534327 rows × 5 columns</p>\n",
       "</div>"
      ],
      "text/plain": [
       "                  Date/Time      Lat      Lon    Base  Clusters\n",
       "0          4/1/2014 0:11:00  40.7690 -73.9549  B02512         4\n",
       "1          4/1/2014 0:17:00  40.7267 -74.0345  B02512         3\n",
       "2          4/1/2014 0:21:00  40.7316 -73.9873  B02512         3\n",
       "3          4/1/2014 0:28:00  40.7588 -73.9776  B02512         2\n",
       "4          4/1/2014 0:33:00  40.7594 -73.9722  B02512         2\n",
       "...                     ...      ...      ...     ...       ...\n",
       "1028131  9/30/2014 22:57:00  40.7668 -73.9845  B02764         2\n",
       "1028132  9/30/2014 22:57:00  40.6911 -74.1773  B02764         3\n",
       "1028133  9/30/2014 22:58:00  40.8519 -73.9319  B02764         4\n",
       "1028134  9/30/2014 22:58:00  40.7081 -74.0066  B02764         3\n",
       "1028135  9/30/2014 22:58:00  40.7140 -73.9496  B02764         1\n",
       "\n",
       "[4534327 rows x 5 columns]"
      ]
     },
     "execution_count": 30,
     "metadata": {},
     "output_type": "execute_result"
    }
   ],
   "source": [
    "df_new_fuz = df_ori.copy()\n",
    "df_new_fuz['Clusters'] = label_fuz_ori\n",
    "df_new_fuz"
   ]
  },
  {
   "cell_type": "code",
   "execution_count": 31,
   "metadata": {},
   "outputs": [
    {
     "name": "stderr",
     "output_type": "stream",
     "text": [
      "/opt/conda/lib/python3.7/site-packages/seaborn/categorical.py:3669: UserWarning: The `factorplot` function has been renamed to `catplot`. The original name will be removed in a future release. Please update your code. Note that the default `kind` in `factorplot` (`'point'`) has changed `'strip'` in `catplot`.\n",
      "  warnings.warn(msg)\n",
      "/opt/conda/lib/python3.7/site-packages/seaborn/categorical.py:3675: UserWarning: The `size` parameter has been renamed to `height`; please update your code.\n",
      "  warnings.warn(msg, UserWarning)\n"
     ]
    },
    {
     "data": {
      "text/plain": [
       "<seaborn.axisgrid.FacetGrid at 0x7f7eef611f90>"
      ]
     },
     "execution_count": 31,
     "metadata": {},
     "output_type": "execute_result"
    },
    {
     "data": {
      "image/png": "[encoded data removed]",
      "text/plain": [
       "<Figure size 1008x504 with 1 Axes>"
      ]
     },
     "metadata": {},
     "output_type": "display_data"
    }
   ],
   "source": [
    "sb.factorplot(data = df_new_fuz, x = \"Clusters\", kind = \"count\", size = 7, aspect = 2)"
   ]
  },
  {
   "cell_type": "markdown",
   "execution_count": null,
   "metadata": {},
   "source": [
    "#Visualize datapoint"
   ]
  },
  {
   "cell_type": "code",
   "execution_count": 32,
   "metadata": {},
   "outputs": [
    {
     "data": {
      "image/png": "[encoded data removed]",
      "text/plain": [
       "<Figure size 576x396 with 1 Axes>"
      ]
     },
     "metadata": {},
     "output_type": "display_data"
    }
   ],
   "source": [
    "plt.scatter(df_new_fuz['Lat'], df_new_fuz['Lon'], c = label_fuz_ori, cmap='viridis');"
   ]
  },
  {
   "cell_type": "markdown",
   "execution_count": null,
   "metadata": {},
   "source": [
    "# 3. Gaussian Mixture Modelling"
   ]
  },
  {
   "cell_type": "markdown",
   "execution_count": null,
   "metadata": {},
   "source": [
    "#Selecting Feature"
   ]
  },
  {
   "cell_type": "code",
   "execution_count": 33,
   "metadata": {},
   "outputs": [],
   "source": [
    "clus_gmm_ori = df_ori[['Lat', 'Lon']]"
   ]
  },
  {
   "cell_type": "code",
   "execution_count": 34,
   "metadata": {},
   "outputs": [
    {
     "data": {
      "image/png": "[encoded data removed]",
      "text/plain": [
       "<Figure size 576x396 with 1 Axes>"
      ]
     },
     "metadata": {},
     "output_type": "display_data"
    }
   ],
   "source": [
    "n_components = np.arange(1, 15)\n",
    "models = [GaussianMixture(n, covariance_type='full', random_state=0).fit(clus_gmm_ori) for n in n_components]\n",
    "plt.plot(n_components, [m.bic(clus_gmm_ori) for m in models], label='BIC')\n",
    "plt.plot(n_components, [m.aic(clus_gmm_ori) for m in models], label='AIC')\n",
    "plt.legend(loc='best')\n",
    "plt.xlabel('n_components');"
   ]
  },
  {
   "cell_type": "code",
   "execution_count": 35,
   "metadata": {},
   "outputs": [
    {
     "data": {
      "text/plain": [
       "GaussianMixture(n_components=5)"
      ]
     },
     "execution_count": 35,
     "metadata": {},
     "output_type": "execute_result"
    }
   ],
   "source": [
    "clf = mixture.GaussianMixture(n_components=5, covariance_type='full')\n",
    "clf.fit(clus_gmm_ori)"
   ]
  },
  {
   "cell_type": "code",
   "execution_count": 36,
   "metadata": {},
   "outputs": [],
   "source": [
    "label_gmm_ori = clf.predict(clus_gmm_ori)"
   ]
  },
  {
   "cell_type": "code",
   "execution_count": 37,
   "metadata": {},
   "outputs": [
    {
     "data": {
      "text/html": [
       "<div>\n",
       "<style scoped>\n",
       "    .dataframe tbody tr th:only-of-type {\n",
       "        vertical-align: middle;\n",
       "    }\n",
       "\n",
       "    .dataframe tbody tr th {\n",
       "        vertical-align: top;\n",
       "    }\n",
       "\n",
       "    .dataframe thead th {\n",
       "        text-align: right;\n",
       "    }\n",
       "</style>\n",
       "<table border=\"1\" class=\"dataframe\">\n",
       "  <thead>\n",
       "    <tr style=\"text-align: right;\">\n",
       "      <th></th>\n",
       "      <th>Date/Time</th>\n",
       "      <th>Lat</th>\n",
       "      <th>Lon</th>\n",
       "      <th>Base</th>\n",
       "      <th>Clusters</th>\n",
       "    </tr>\n",
       "  </thead>\n",
       "  <tbody>\n",
       "    <tr>\n",
       "      <th>0</th>\n",
       "      <td>4/1/2014 0:11:00</td>\n",
       "      <td>40.7690</td>\n",
       "      <td>-73.9549</td>\n",
       "      <td>B02512</td>\n",
       "      <td>0</td>\n",
       "    </tr>\n",
       "    <tr>\n",
       "      <th>1</th>\n",
       "      <td>4/1/2014 0:17:00</td>\n",
       "      <td>40.7267</td>\n",
       "      <td>-74.0345</td>\n",
       "      <td>B02512</td>\n",
       "      <td>3</td>\n",
       "    </tr>\n",
       "    <tr>\n",
       "      <th>2</th>\n",
       "      <td>4/1/2014 0:21:00</td>\n",
       "      <td>40.7316</td>\n",
       "      <td>-73.9873</td>\n",
       "      <td>B02512</td>\n",
       "      <td>0</td>\n",
       "    </tr>\n",
       "    <tr>\n",
       "      <th>3</th>\n",
       "      <td>4/1/2014 0:28:00</td>\n",
       "      <td>40.7588</td>\n",
       "      <td>-73.9776</td>\n",
       "      <td>B02512</td>\n",
       "      <td>0</td>\n",
       "    </tr>\n",
       "    <tr>\n",
       "      <th>4</th>\n",
       "      <td>4/1/2014 0:33:00</td>\n",
       "      <td>40.7594</td>\n",
       "      <td>-73.9722</td>\n",
       "      <td>B02512</td>\n",
       "      <td>0</td>\n",
       "    </tr>\n",
       "    <tr>\n",
       "      <th>...</th>\n",
       "      <td>...</td>\n",
       "      <td>...</td>\n",
       "      <td>...</td>\n",
       "      <td>...</td>\n",
       "      <td>...</td>\n",
       "    </tr>\n",
       "    <tr>\n",
       "      <th>1028131</th>\n",
       "      <td>9/30/2014 22:57:00</td>\n",
       "      <td>40.7668</td>\n",
       "      <td>-73.9845</td>\n",
       "      <td>B02764</td>\n",
       "      <td>0</td>\n",
       "    </tr>\n",
       "    <tr>\n",
       "      <th>1028132</th>\n",
       "      <td>9/30/2014 22:57:00</td>\n",
       "      <td>40.6911</td>\n",
       "      <td>-74.1773</td>\n",
       "      <td>B02764</td>\n",
       "      <td>4</td>\n",
       "    </tr>\n",
       "    <tr>\n",
       "      <th>1028133</th>\n",
       "      <td>9/30/2014 22:58:00</td>\n",
       "      <td>40.8519</td>\n",
       "      <td>-73.9319</td>\n",
       "      <td>B02764</td>\n",
       "      <td>2</td>\n",
       "    </tr>\n",
       "    <tr>\n",
       "      <th>1028134</th>\n",
       "      <td>9/30/2014 22:58:00</td>\n",
       "      <td>40.7081</td>\n",
       "      <td>-74.0066</td>\n",
       "      <td>B02764</td>\n",
       "      <td>0</td>\n",
       "    </tr>\n",
       "    <tr>\n",
       "      <th>1028135</th>\n",
       "      <td>9/30/2014 22:58:00</td>\n",
       "      <td>40.7140</td>\n",
       "      <td>-73.9496</td>\n",
       "      <td>B02764</td>\n",
       "      <td>3</td>\n",
       "    </tr>\n",
       "  </tbody>\n",
       "</table>\n",
       "<p>4534327 rows × 5 columns</p>\n",
       "</div>"
      ],
      "text/plain": [
       "                  Date/Time      Lat      Lon    Base  Clusters\n",
       "0          4/1/2014 0:11:00  40.7690 -73.9549  B02512         0\n",
       "1          4/1/2014 0:17:00  40.7267 -74.0345  B02512         3\n",
       "2          4/1/2014 0:21:00  40.7316 -73.9873  B02512         0\n",
       "3          4/1/2014 0:28:00  40.7588 -73.9776  B02512         0\n",
       "4          4/1/2014 0:33:00  40.7594 -73.9722  B02512         0\n",
       "...                     ...      ...      ...     ...       ...\n",
       "1028131  9/30/2014 22:57:00  40.7668 -73.9845  B02764         0\n",
       "1028132  9/30/2014 22:57:00  40.6911 -74.1773  B02764         4\n",
       "1028133  9/30/2014 22:58:00  40.8519 -73.9319  B02764         2\n",
       "1028134  9/30/2014 22:58:00  40.7081 -74.0066  B02764         0\n",
       "1028135  9/30/2014 22:58:00  40.7140 -73.9496  B02764         3\n",
       "\n",
       "[4534327 rows x 5 columns]"
      ]
     },
     "execution_count": 37,
     "metadata": {},
     "output_type": "execute_result"
    }
   ],
   "source": [
    "df_new_gmm = df_ori.copy()\n",
    "df_new_gmm['Clusters'] = label_gmm_ori\n",
    "df_new_gmm"
   ]
  },
  {
   "cell_type": "code",
   "execution_count": 38,
   "metadata": {},
   "outputs": [
    {
     "data": {
      "text/plain": [
       "array([0, 3, 1, 2, 4])"
      ]
     },
     "execution_count": 38,
     "metadata": {},
     "output_type": "execute_result"
    }
   ],
   "source": [
    "df_new_gmm['Clusters'].unique()"
   ]
  },
  {
   "cell_type": "code",
   "execution_count": 39,
   "metadata": {},
   "outputs": [
    {
     "data": {
      "image/png": "[encoded data removed]",
      "text/plain": [
       "<Figure size 576x396 with 1 Axes>"
      ]
     },
     "metadata": {},
     "output_type": "display_data"
    }
   ],
   "source": [
    "plt.scatter(df_new_gmm['Lat'], df_new_gmm['Lon'], c = label_gmm_ori, cmap='viridis');"
   ]
  },
  {
   "cell_type": "markdown",
   "execution_count": null,
   "metadata": {},
   "source": [
    "#Predict new location"
   ]
  },
  {
   "cell_type": "code",
   "execution_count": 40,
   "metadata": {},
   "outputs": [
    {
     "data": {
      "text/plain": [
       "array([4])"
      ]
     },
     "execution_count": 40,
     "metadata": {},
     "output_type": "execute_result"
    }
   ],
   "source": [
    "new_location_gmm = [(43.86, -71.56)]\n",
    "clf.predict(new_location_gmm)"
   ]
  },
  {
   "cell_type": "markdown",
   "execution_count": null,
   "metadata": {},
   "source": [
    "# II. Pre-processed data & Analysis"
   ]
  },
  {
   "cell_type": "markdown",
   "execution_count": null,
   "metadata": {},
   "source": [
    "#Row bind using concatenate"
   ]
  },
  {
   "cell_type": "code",
   "execution_count": 41,
   "metadata": {},
   "outputs": [],
   "source": [
    "df_prep = df_ori.copy()"
   ]
  },
  {
   "cell_type": "code",
   "execution_count": 42,
   "metadata": {},
   "outputs": [],
   "source": [
    "df_prep = df_prep.rename(columns = {'Date/Time' : 'Date_Time'}) #rename Date/Time -> Date_Time"
   ]
  },
  {
   "cell_type": "code",
   "execution_count": 43,
   "metadata": {},
   "outputs": [
    {
     "data": {
      "text/plain": [
       "(4534327, 4)"
      ]
     },
     "execution_count": 43,
     "metadata": {},
     "output_type": "execute_result"
    }
   ],
   "source": [
    "df_prep.shape"
   ]
  },
  {
   "cell_type": "code",
   "execution_count": 44,
   "metadata": {},
   "outputs": [
    {
     "data": {
      "text/html": [
       "<div>\n",
       "<style scoped>\n",
       "    .dataframe tbody tr th:only-of-type {\n",
       "        vertical-align: middle;\n",
       "    }\n",
       "\n",
       "    .dataframe tbody tr th {\n",
       "        vertical-align: top;\n",
       "    }\n",
       "\n",
       "    .dataframe thead th {\n",
       "        text-align: right;\n",
       "    }\n",
       "</style>\n",
       "<table border=\"1\" class=\"dataframe\">\n",
       "  <thead>\n",
       "    <tr style=\"text-align: right;\">\n",
       "      <th></th>\n",
       "      <th>Date_Time</th>\n",
       "      <th>Lat</th>\n",
       "      <th>Lon</th>\n",
       "      <th>Base</th>\n",
       "    </tr>\n",
       "  </thead>\n",
       "  <tbody>\n",
       "    <tr>\n",
       "      <th>0</th>\n",
       "      <td>4/1/2014 0:11:00</td>\n",
       "      <td>40.7690</td>\n",
       "      <td>-73.9549</td>\n",
       "      <td>B02512</td>\n",
       "    </tr>\n",
       "    <tr>\n",
       "      <th>1</th>\n",
       "      <td>4/1/2014 0:17:00</td>\n",
       "      <td>40.7267</td>\n",
       "      <td>-74.0345</td>\n",
       "      <td>B02512</td>\n",
       "    </tr>\n",
       "    <tr>\n",
       "      <th>2</th>\n",
       "      <td>4/1/2014 0:21:00</td>\n",
       "      <td>40.7316</td>\n",
       "      <td>-73.9873</td>\n",
       "      <td>B02512</td>\n",
       "    </tr>\n",
       "    <tr>\n",
       "      <th>3</th>\n",
       "      <td>4/1/2014 0:28:00</td>\n",
       "      <td>40.7588</td>\n",
       "      <td>-73.9776</td>\n",
       "      <td>B02512</td>\n",
       "    </tr>\n",
       "    <tr>\n",
       "      <th>4</th>\n",
       "      <td>4/1/2014 0:33:00</td>\n",
       "      <td>40.7594</td>\n",
       "      <td>-73.9722</td>\n",
       "      <td>B02512</td>\n",
       "    </tr>\n",
       "  </tbody>\n",
       "</table>\n",
       "</div>"
      ],
      "text/plain": [
       "          Date_Time      Lat      Lon    Base\n",
       "0  4/1/2014 0:11:00  40.7690 -73.9549  B02512\n",
       "1  4/1/2014 0:17:00  40.7267 -74.0345  B02512\n",
       "2  4/1/2014 0:21:00  40.7316 -73.9873  B02512\n",
       "3  4/1/2014 0:28:00  40.7588 -73.9776  B02512\n",
       "4  4/1/2014 0:33:00  40.7594 -73.9722  B02512"
      ]
     },
     "execution_count": 44,
     "metadata": {},
     "output_type": "execute_result"
    }
   ],
   "source": [
    "df_prep.head()"
   ]
  },
  {
   "cell_type": "markdown",
   "execution_count": null,
   "metadata": {},
   "source": [
    "#Split Date/Time"
   ]
  },
  {
   "cell_type": "code",
   "execution_count": 45,
   "metadata": {},
   "outputs": [],
   "source": [
    "df_prep['Date_Time'] =  pd.to_datetime(df_prep['Date_Time']) #convert to datetime\n",
    "df_prep['Month'] = df_prep.Date_Time.apply(lambda x: x.month) #Month\n",
    "df_prep['Day'] = df_prep.Date_Time.apply(lambda x: x.day) #Day\n",
    "df_prep['Hour'] =  df_prep.Date_Time.apply(lambda x: x.hour) #hour\n",
    "df_prep['Minute'] =  df_prep.Date_Time.apply(lambda x: x.minute) #minute\n",
    "df_prep['Weekday'] = df_prep.Date_Time.apply(lambda x: x.weekday()) #weekday & onehot encoder\n",
    "\n",
    "holidays = calendar().holidays(start = df_prep['Date_Time'].min(), end = df_prep['Date_Time'].max()) #get the holiday in US calendar\n",
    "df_prep['Holiday'] = df_prep['Date_Time'].isin(holidays).astype('int') #holidays"
   ]
  },
  {
   "cell_type": "code",
   "execution_count": 46,
   "metadata": {},
   "outputs": [
    {
     "data": {
      "text/html": [
       "<div>\n",
       "<style scoped>\n",
       "    .dataframe tbody tr th:only-of-type {\n",
       "        vertical-align: middle;\n",
       "    }\n",
       "\n",
       "    .dataframe tbody tr th {\n",
       "        vertical-align: top;\n",
       "    }\n",
       "\n",
       "    .dataframe thead th {\n",
       "        text-align: right;\n",
       "    }\n",
       "</style>\n",
       "<table border=\"1\" class=\"dataframe\">\n",
       "  <thead>\n",
       "    <tr style=\"text-align: right;\">\n",
       "      <th></th>\n",
       "      <th>Date_Time</th>\n",
       "      <th>Lat</th>\n",
       "      <th>Lon</th>\n",
       "      <th>Base</th>\n",
       "      <th>Month</th>\n",
       "      <th>Day</th>\n",
       "      <th>Hour</th>\n",
       "      <th>Minute</th>\n",
       "      <th>Weekday</th>\n",
       "      <th>Holiday</th>\n",
       "    </tr>\n",
       "  </thead>\n",
       "  <tbody>\n",
       "    <tr>\n",
       "      <th>0</th>\n",
       "      <td>2014-04-01 00:11:00</td>\n",
       "      <td>40.7690</td>\n",
       "      <td>-73.9549</td>\n",
       "      <td>B02512</td>\n",
       "      <td>4</td>\n",
       "      <td>1</td>\n",
       "      <td>0</td>\n",
       "      <td>11</td>\n",
       "      <td>1</td>\n",
       "      <td>0</td>\n",
       "    </tr>\n",
       "    <tr>\n",
       "      <th>1</th>\n",
       "      <td>2014-04-01 00:17:00</td>\n",
       "      <td>40.7267</td>\n",
       "      <td>-74.0345</td>\n",
       "      <td>B02512</td>\n",
       "      <td>4</td>\n",
       "      <td>1</td>\n",
       "      <td>0</td>\n",
       "      <td>17</td>\n",
       "      <td>1</td>\n",
       "      <td>0</td>\n",
       "    </tr>\n",
       "    <tr>\n",
       "      <th>2</th>\n",
       "      <td>2014-04-01 00:21:00</td>\n",
       "      <td>40.7316</td>\n",
       "      <td>-73.9873</td>\n",
       "      <td>B02512</td>\n",
       "      <td>4</td>\n",
       "      <td>1</td>\n",
       "      <td>0</td>\n",
       "      <td>21</td>\n",
       "      <td>1</td>\n",
       "      <td>0</td>\n",
       "    </tr>\n",
       "    <tr>\n",
       "      <th>3</th>\n",
       "      <td>2014-04-01 00:28:00</td>\n",
       "      <td>40.7588</td>\n",
       "      <td>-73.9776</td>\n",
       "      <td>B02512</td>\n",
       "      <td>4</td>\n",
       "      <td>1</td>\n",
       "      <td>0</td>\n",
       "      <td>28</td>\n",
       "      <td>1</td>\n",
       "      <td>0</td>\n",
       "    </tr>\n",
       "    <tr>\n",
       "      <th>4</th>\n",
       "      <td>2014-04-01 00:33:00</td>\n",
       "      <td>40.7594</td>\n",
       "      <td>-73.9722</td>\n",
       "      <td>B02512</td>\n",
       "      <td>4</td>\n",
       "      <td>1</td>\n",
       "      <td>0</td>\n",
       "      <td>33</td>\n",
       "      <td>1</td>\n",
       "      <td>0</td>\n",
       "    </tr>\n",
       "    <tr>\n",
       "      <th>...</th>\n",
       "      <td>...</td>\n",
       "      <td>...</td>\n",
       "      <td>...</td>\n",
       "      <td>...</td>\n",
       "      <td>...</td>\n",
       "      <td>...</td>\n",
       "      <td>...</td>\n",
       "      <td>...</td>\n",
       "      <td>...</td>\n",
       "      <td>...</td>\n",
       "    </tr>\n",
       "    <tr>\n",
       "      <th>1028131</th>\n",
       "      <td>2014-09-30 22:57:00</td>\n",
       "      <td>40.7668</td>\n",
       "      <td>-73.9845</td>\n",
       "      <td>B02764</td>\n",
       "      <td>9</td>\n",
       "      <td>30</td>\n",
       "      <td>22</td>\n",
       "      <td>57</td>\n",
       "      <td>1</td>\n",
       "      <td>0</td>\n",
       "    </tr>\n",
       "    <tr>\n",
       "      <th>1028132</th>\n",
       "      <td>2014-09-30 22:57:00</td>\n",
       "      <td>40.6911</td>\n",
       "      <td>-74.1773</td>\n",
       "      <td>B02764</td>\n",
       "      <td>9</td>\n",
       "      <td>30</td>\n",
       "      <td>22</td>\n",
       "      <td>57</td>\n",
       "      <td>1</td>\n",
       "      <td>0</td>\n",
       "    </tr>\n",
       "    <tr>\n",
       "      <th>1028133</th>\n",
       "      <td>2014-09-30 22:58:00</td>\n",
       "      <td>40.8519</td>\n",
       "      <td>-73.9319</td>\n",
       "      <td>B02764</td>\n",
       "      <td>9</td>\n",
       "      <td>30</td>\n",
       "      <td>22</td>\n",
       "      <td>58</td>\n",
       "      <td>1</td>\n",
       "      <td>0</td>\n",
       "    </tr>\n",
       "    <tr>\n",
       "      <th>1028134</th>\n",
       "      <td>2014-09-30 22:58:00</td>\n",
       "      <td>40.7081</td>\n",
       "      <td>-74.0066</td>\n",
       "      <td>B02764</td>\n",
       "      <td>9</td>\n",
       "      <td>30</td>\n",
       "      <td>22</td>\n",
       "      <td>58</td>\n",
       "      <td>1</td>\n",
       "      <td>0</td>\n",
       "    </tr>\n",
       "    <tr>\n",
       "      <th>1028135</th>\n",
       "      <td>2014-09-30 22:58:00</td>\n",
       "      <td>40.7140</td>\n",
       "      <td>-73.9496</td>\n",
       "      <td>B02764</td>\n",
       "      <td>9</td>\n",
       "      <td>30</td>\n",
       "      <td>22</td>\n",
       "      <td>58</td>\n",
       "      <td>1</td>\n",
       "      <td>0</td>\n",
       "    </tr>\n",
       "  </tbody>\n",
       "</table>\n",
       "<p>4534327 rows × 10 columns</p>\n",
       "</div>"
      ],
      "text/plain": [
       "                  Date_Time      Lat      Lon    Base  Month  Day  Hour  \\\n",
       "0       2014-04-01 00:11:00  40.7690 -73.9549  B02512      4    1     0   \n",
       "1       2014-04-01 00:17:00  40.7267 -74.0345  B02512      4    1     0   \n",
       "2       2014-04-01 00:21:00  40.7316 -73.9873  B02512      4    1     0   \n",
       "3       2014-04-01 00:28:00  40.7588 -73.9776  B02512      4    1     0   \n",
       "4       2014-04-01 00:33:00  40.7594 -73.9722  B02512      4    1     0   \n",
       "...                     ...      ...      ...     ...    ...  ...   ...   \n",
       "1028131 2014-09-30 22:57:00  40.7668 -73.9845  B02764      9   30    22   \n",
       "1028132 2014-09-30 22:57:00  40.6911 -74.1773  B02764      9   30    22   \n",
       "1028133 2014-09-30 22:58:00  40.8519 -73.9319  B02764      9   30    22   \n",
       "1028134 2014-09-30 22:58:00  40.7081 -74.0066  B02764      9   30    22   \n",
       "1028135 2014-09-30 22:58:00  40.7140 -73.9496  B02764      9   30    22   \n",
       "\n",
       "         Minute  Weekday  Holiday  \n",
       "0            11        1        0  \n",
       "1            17        1        0  \n",
       "2            21        1        0  \n",
       "3            28        1        0  \n",
       "4            33        1        0  \n",
       "...         ...      ...      ...  \n",
       "1028131      57        1        0  \n",
       "1028132      57        1        0  \n",
       "1028133      58        1        0  \n",
       "1028134      58        1        0  \n",
       "1028135      58        1        0  \n",
       "\n",
       "[4534327 rows x 10 columns]"
      ]
     },
     "execution_count": 46,
     "metadata": {},
     "output_type": "execute_result"
    }
   ],
   "source": [
    "df_prep"
   ]
  },
  {
   "cell_type": "markdown",
   "execution_count": null,
   "metadata": {},
   "source": [
    "# 1. Kmeans clustering"
   ]
  },
  {
   "cell_type": "markdown",
   "execution_count": null,
   "metadata": {},
   "source": [
    "#Selecting Feature"
   ]
  },
  {
   "cell_type": "code",
   "execution_count": 47,
   "metadata": {},
   "outputs": [
    {
     "data": {
      "text/plain": [
       "Lat        float64\n",
       "Lon        float64\n",
       "Day          int64\n",
       "Month        int64\n",
       "Hour         int64\n",
       "Minute       int64\n",
       "Weekday      int64\n",
       "Holiday      int64\n",
       "dtype: object"
      ]
     },
     "execution_count": 47,
     "metadata": {},
     "output_type": "execute_result"
    }
   ],
   "source": [
    "clus_k_prep = df_prep[['Lat', 'Lon', 'Day', 'Month', 'Hour', 'Minute', 'Weekday', 'Holiday']]\n",
    "clus_k_prep.dtypes"
   ]
  },
  {
   "cell_type": "markdown",
   "execution_count": null,
   "metadata": {},
   "source": [
    "#Plot the number of clusters"
   ]
  },
  {
   "cell_type": "code",
   "execution_count": 48,
   "metadata": {},
   "outputs": [
    {
     "data": {
      "image/png": "[encoded data removed]",
      "text/plain": [
       "<Figure size 576x396 with 2 Axes>"
      ]
     },
     "metadata": {},
     "output_type": "display_data"
    },
    {
     "data": {
      "text/plain": [
       "<matplotlib.axes._subplots.AxesSubplot at 0x7f7eefa25e90>"
      ]
     },
     "execution_count": 48,
     "metadata": {},
     "output_type": "execute_result"
    }
   ],
   "source": [
    "model_prep = KMeans()\n",
    "visualizer_prep = KElbowVisualizer(model_prep, k = (1, 18)) #k = 1 to 17\n",
    "visualizer_prep.fit(clus_k_prep)\n",
    "visualizer_prep.show()"
   ]
  },
  {
   "cell_type": "markdown",
   "execution_count": null,
   "metadata": {},
   "source": [
    "#Assign number of cluster in K-Means Algorithm"
   ]
  },
  {
   "cell_type": "code",
   "execution_count": 49,
   "metadata": {},
   "outputs": [
    {
     "data": {
      "text/plain": [
       "KMeans(n_clusters=3, random_state=0)"
      ]
     },
     "execution_count": 49,
     "metadata": {},
     "output_type": "execute_result"
    }
   ],
   "source": [
    "kmeans_prep = KMeans(n_clusters = 3, random_state = 0) #k = 3\n",
    "kmeans_prep.fit(clus_k_prep) "
   ]
  },
  {
   "cell_type": "markdown",
   "execution_count": null,
   "metadata": {},
   "source": [
    "#Storing the Centroid"
   ]
  },
  {
   "cell_type": "code",
   "execution_count": 50,
   "metadata": {},
   "outputs": [
    {
     "data": {
      "text/plain": [
       "array([[ 4.07392785e+01, -7.39729732e+01,  1.59332922e+01,\n",
       "         6.83045933e+00,  1.41738227e+01,  2.95001800e+01,\n",
       "         2.96018300e+00, -5.44980998e-18],\n",
       "       [ 4.07391946e+01, -7.39731940e+01,  1.59461696e+01,\n",
       "         6.82284134e+00,  1.41652752e+01,  4.94809797e+01,\n",
       "         2.96765106e+00, -5.90890184e-18],\n",
       "       [ 4.07393085e+01, -7.39728928e+01,  1.59505806e+01,\n",
       "         6.83274861e+00,  1.43146857e+01,  9.48961154e+00,\n",
       "         2.97642769e+00,  2.03515166e-05]])"
      ]
     },
     "execution_count": 50,
     "metadata": {},
     "output_type": "execute_result"
    }
   ],
   "source": [
    "centroids_k_prep = kmeans_prep.cluster_centers_\n",
    "centroids_k_prep"
   ]
  },
  {
   "cell_type": "code",
   "execution_count": 51,
   "metadata": {},
   "outputs": [],
   "source": [
    "clocation_k_prep = pd.DataFrame(centroids_k_prep, columns = ['Latitude', 'Longitude','Day', 'Month', 'Hour', 'Minute', 'Weekday', 'Holiday'])"
   ]
  },
  {
   "cell_type": "markdown",
   "execution_count": null,
   "metadata": {},
   "source": [
    "#Get the Lat and Lon to visualize"
   ]
  },
  {
   "cell_type": "code",
   "execution_count": 52,
   "metadata": {},
   "outputs": [],
   "source": [
    "clocation_k_prep_map = clocation_k_prep[['Latitude', 'Longitude']]"
   ]
  },
  {
   "cell_type": "markdown",
   "execution_count": null,
   "metadata": {},
   "source": [
    "#Visualize Centroids"
   ]
  },
  {
   "cell_type": "code",
   "execution_count": 53,
   "metadata": {},
   "outputs": [
    {
     "data": {
      "text/plain": [
       "<matplotlib.collections.PathCollection at 0x7f7eef4e1950>"
      ]
     },
     "execution_count": 53,
     "metadata": {},
     "output_type": "execute_result"
    },
    {
     "data": {
      "image/png": "[encoded data removed]",
      "text/plain": [
       "<Figure size 576x396 with 1 Axes>"
      ]
     },
     "metadata": {},
     "output_type": "display_data"
    }
   ],
   "source": [
    "plt.scatter(clocation_k_prep_map['Latitude'], clocation_k_prep_map['Longitude'], marker = \"x\", color = 'R', s = 200)"
   ]
  },
  {
   "cell_type": "markdown",
   "execution_count": null,
   "metadata": {},
   "source": [
    "#Visualize Latitude and Longitude"
   ]
  },
  {
   "cell_type": "code",
   "execution_count": 54,
   "metadata": {},
   "outputs": [
    {
     "data": {
      "text/html": [
       "<div style=\"width:100%;\"><div style=\"position:relative;width:100%;height:0;padding-bottom:60%;\"><span style=\"color:#565656\">Make this Notebook Trusted to load map: File -> Trust Notebook</span><iframe src=\"about:blank\" style=\"position:absolute;width:100%;height:100%;left:0;top:0;border:none !important;\" data-html=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 onload=\"this.contentDocument.open();this.contentDocument.write(atob(this.getAttribute('data-html')));this.contentDocument.close();\" allowfullscreen webkitallowfullscreen mozallowfullscreen></iframe></div></div>"
      ],
      "text/plain": [
       "<folium.folium.Map at 0x7f7eef560fd0>"
      ]
     },
     "execution_count": 54,
     "metadata": {},
     "output_type": "execute_result"
    }
   ],
   "source": [
    "centroid_k_prep = clocation_k_prep_map.values.tolist()\n",
    "\n",
    "map_k_prep = folium.Map(location = [40.7392, -73.973], zoom_start = 20)\n",
    "for point in range(0, len(centroid_k_prep)):\n",
    "    folium.Marker(centroid_k_prep[point], popup = centroid_k_prep[point]).add_to(map_k_prep)\n",
    "\n",
    "map_k_prep"
   ]
  },
  {
   "cell_type": "markdown",
   "execution_count": null,
   "metadata": {},
   "source": [
    "#Grouping and visualizing the total number of clusters"
   ]
  },
  {
   "cell_type": "code",
   "execution_count": 55,
   "metadata": {},
   "outputs": [
    {
     "data": {
      "text/plain": [
       "array([2, 2, 0, ..., 1, 1, 1], dtype=int32)"
      ]
     },
     "execution_count": 55,
     "metadata": {},
     "output_type": "execute_result"
    }
   ],
   "source": [
    "label_k_prep = kmeans_prep.labels_\n",
    "label_k_prep"
   ]
  },
  {
   "cell_type": "code",
   "execution_count": 56,
   "metadata": {},
   "outputs": [
    {
     "data": {
      "text/html": [
       "<div>\n",
       "<style scoped>\n",
       "    .dataframe tbody tr th:only-of-type {\n",
       "        vertical-align: middle;\n",
       "    }\n",
       "\n",
       "    .dataframe tbody tr th {\n",
       "        vertical-align: top;\n",
       "    }\n",
       "\n",
       "    .dataframe thead th {\n",
       "        text-align: right;\n",
       "    }\n",
       "</style>\n",
       "<table border=\"1\" class=\"dataframe\">\n",
       "  <thead>\n",
       "    <tr style=\"text-align: right;\">\n",
       "      <th></th>\n",
       "      <th>Date_Time</th>\n",
       "      <th>Lat</th>\n",
       "      <th>Lon</th>\n",
       "      <th>Base</th>\n",
       "      <th>Month</th>\n",
       "      <th>Day</th>\n",
       "      <th>Hour</th>\n",
       "      <th>Minute</th>\n",
       "      <th>Weekday</th>\n",
       "      <th>Holiday</th>\n",
       "      <th>Clusters</th>\n",
       "    </tr>\n",
       "  </thead>\n",
       "  <tbody>\n",
       "    <tr>\n",
       "      <th>0</th>\n",
       "      <td>2014-04-01 00:11:00</td>\n",
       "      <td>40.7690</td>\n",
       "      <td>-73.9549</td>\n",
       "      <td>B02512</td>\n",
       "      <td>4</td>\n",
       "      <td>1</td>\n",
       "      <td>0</td>\n",
       "      <td>11</td>\n",
       "      <td>1</td>\n",
       "      <td>0</td>\n",
       "      <td>2</td>\n",
       "    </tr>\n",
       "    <tr>\n",
       "      <th>1</th>\n",
       "      <td>2014-04-01 00:17:00</td>\n",
       "      <td>40.7267</td>\n",
       "      <td>-74.0345</td>\n",
       "      <td>B02512</td>\n",
       "      <td>4</td>\n",
       "      <td>1</td>\n",
       "      <td>0</td>\n",
       "      <td>17</td>\n",
       "      <td>1</td>\n",
       "      <td>0</td>\n",
       "      <td>2</td>\n",
       "    </tr>\n",
       "    <tr>\n",
       "      <th>2</th>\n",
       "      <td>2014-04-01 00:21:00</td>\n",
       "      <td>40.7316</td>\n",
       "      <td>-73.9873</td>\n",
       "      <td>B02512</td>\n",
       "      <td>4</td>\n",
       "      <td>1</td>\n",
       "      <td>0</td>\n",
       "      <td>21</td>\n",
       "      <td>1</td>\n",
       "      <td>0</td>\n",
       "      <td>0</td>\n",
       "    </tr>\n",
       "    <tr>\n",
       "      <th>3</th>\n",
       "      <td>2014-04-01 00:28:00</td>\n",
       "      <td>40.7588</td>\n",
       "      <td>-73.9776</td>\n",
       "      <td>B02512</td>\n",
       "      <td>4</td>\n",
       "      <td>1</td>\n",
       "      <td>0</td>\n",
       "      <td>28</td>\n",
       "      <td>1</td>\n",
       "      <td>0</td>\n",
       "      <td>0</td>\n",
       "    </tr>\n",
       "    <tr>\n",
       "      <th>4</th>\n",
       "      <td>2014-04-01 00:33:00</td>\n",
       "      <td>40.7594</td>\n",
       "      <td>-73.9722</td>\n",
       "      <td>B02512</td>\n",
       "      <td>4</td>\n",
       "      <td>1</td>\n",
       "      <td>0</td>\n",
       "      <td>33</td>\n",
       "      <td>1</td>\n",
       "      <td>0</td>\n",
       "      <td>0</td>\n",
       "    </tr>\n",
       "    <tr>\n",
       "      <th>...</th>\n",
       "      <td>...</td>\n",
       "      <td>...</td>\n",
       "      <td>...</td>\n",
       "      <td>...</td>\n",
       "      <td>...</td>\n",
       "      <td>...</td>\n",
       "      <td>...</td>\n",
       "      <td>...</td>\n",
       "      <td>...</td>\n",
       "      <td>...</td>\n",
       "      <td>...</td>\n",
       "    </tr>\n",
       "    <tr>\n",
       "      <th>1028131</th>\n",
       "      <td>2014-09-30 22:57:00</td>\n",
       "      <td>40.7668</td>\n",
       "      <td>-73.9845</td>\n",
       "      <td>B02764</td>\n",
       "      <td>9</td>\n",
       "      <td>30</td>\n",
       "      <td>22</td>\n",
       "      <td>57</td>\n",
       "      <td>1</td>\n",
       "      <td>0</td>\n",
       "      <td>1</td>\n",
       "    </tr>\n",
       "    <tr>\n",
       "      <th>1028132</th>\n",
       "      <td>2014-09-30 22:57:00</td>\n",
       "      <td>40.6911</td>\n",
       "      <td>-74.1773</td>\n",
       "      <td>B02764</td>\n",
       "      <td>9</td>\n",
       "      <td>30</td>\n",
       "      <td>22</td>\n",
       "      <td>57</td>\n",
       "      <td>1</td>\n",
       "      <td>0</td>\n",
       "      <td>1</td>\n",
       "    </tr>\n",
       "    <tr>\n",
       "      <th>1028133</th>\n",
       "      <td>2014-09-30 22:58:00</td>\n",
       "      <td>40.8519</td>\n",
       "      <td>-73.9319</td>\n",
       "      <td>B02764</td>\n",
       "      <td>9</td>\n",
       "      <td>30</td>\n",
       "      <td>22</td>\n",
       "      <td>58</td>\n",
       "      <td>1</td>\n",
       "      <td>0</td>\n",
       "      <td>1</td>\n",
       "    </tr>\n",
       "    <tr>\n",
       "      <th>1028134</th>\n",
       "      <td>2014-09-30 22:58:00</td>\n",
       "      <td>40.7081</td>\n",
       "      <td>-74.0066</td>\n",
       "      <td>B02764</td>\n",
       "      <td>9</td>\n",
       "      <td>30</td>\n",
       "      <td>22</td>\n",
       "      <td>58</td>\n",
       "      <td>1</td>\n",
       "      <td>0</td>\n",
       "      <td>1</td>\n",
       "    </tr>\n",
       "    <tr>\n",
       "      <th>1028135</th>\n",
       "      <td>2014-09-30 22:58:00</td>\n",
       "      <td>40.7140</td>\n",
       "      <td>-73.9496</td>\n",
       "      <td>B02764</td>\n",
       "      <td>9</td>\n",
       "      <td>30</td>\n",
       "      <td>22</td>\n",
       "      <td>58</td>\n",
       "      <td>1</td>\n",
       "      <td>0</td>\n",
       "      <td>1</td>\n",
       "    </tr>\n",
       "  </tbody>\n",
       "</table>\n",
       "<p>4534327 rows × 11 columns</p>\n",
       "</div>"
      ],
      "text/plain": [
       "                  Date_Time      Lat      Lon    Base  Month  Day  Hour  \\\n",
       "0       2014-04-01 00:11:00  40.7690 -73.9549  B02512      4    1     0   \n",
       "1       2014-04-01 00:17:00  40.7267 -74.0345  B02512      4    1     0   \n",
       "2       2014-04-01 00:21:00  40.7316 -73.9873  B02512      4    1     0   \n",
       "3       2014-04-01 00:28:00  40.7588 -73.9776  B02512      4    1     0   \n",
       "4       2014-04-01 00:33:00  40.7594 -73.9722  B02512      4    1     0   \n",
       "...                     ...      ...      ...     ...    ...  ...   ...   \n",
       "1028131 2014-09-30 22:57:00  40.7668 -73.9845  B02764      9   30    22   \n",
       "1028132 2014-09-30 22:57:00  40.6911 -74.1773  B02764      9   30    22   \n",
       "1028133 2014-09-30 22:58:00  40.8519 -73.9319  B02764      9   30    22   \n",
       "1028134 2014-09-30 22:58:00  40.7081 -74.0066  B02764      9   30    22   \n",
       "1028135 2014-09-30 22:58:00  40.7140 -73.9496  B02764      9   30    22   \n",
       "\n",
       "         Minute  Weekday  Holiday  Clusters  \n",
       "0            11        1        0         2  \n",
       "1            17        1        0         2  \n",
       "2            21        1        0         0  \n",
       "3            28        1        0         0  \n",
       "4            33        1        0         0  \n",
       "...         ...      ...      ...       ...  \n",
       "1028131      57        1        0         1  \n",
       "1028132      57        1        0         1  \n",
       "1028133      58        1        0         1  \n",
       "1028134      58        1        0         1  \n",
       "1028135      58        1        0         1  \n",
       "\n",
       "[4534327 rows x 11 columns]"
      ]
     },
     "execution_count": 56,
     "metadata": {},
     "output_type": "execute_result"
    }
   ],
   "source": [
    "df_prep_new_k = df_prep.copy()\n",
    "df_prep_new_k['Clusters'] = label_k_prep\n",
    "df_prep_new_k"
   ]
  },
  {
   "cell_type": "code",
   "execution_count": 57,
   "metadata": {},
   "outputs": [
    {
     "name": "stderr",
     "output_type": "stream",
     "text": [
      "/opt/conda/lib/python3.7/site-packages/seaborn/categorical.py:3669: UserWarning: The `factorplot` function has been renamed to `catplot`. The original name will be removed in a future release. Please update your code. Note that the default `kind` in `factorplot` (`'point'`) has changed `'strip'` in `catplot`.\n",
      "  warnings.warn(msg)\n",
      "/opt/conda/lib/python3.7/site-packages/seaborn/categorical.py:3675: UserWarning: The `size` parameter has been renamed to `height`; please update your code.\n",
      "  warnings.warn(msg, UserWarning)\n"
     ]
    },
    {
     "data": {
      "text/plain": [
       "<seaborn.axisgrid.FacetGrid at 0x7f7eef5585d0>"
      ]
     },
     "execution_count": 57,
     "metadata": {},
     "output_type": "execute_result"
    },
    {
     "data": {
      "image/png": "[encoded data removed]",
      "text/plain": [
       "<Figure size 1008x504 with 1 Axes>"
      ]
     },
     "metadata": {},
     "output_type": "display_data"
    }
   ],
   "source": [
    "sb.factorplot(data = df_prep_new_k, x = \"Clusters\", kind = \"count\", size = 7, aspect = 2)"
   ]
  },
  {
   "cell_type": "markdown",
   "execution_count": null,
   "metadata": {},
   "source": [
    "#Predict cluster"
   ]
  },
  {
   "cell_type": "code",
   "execution_count": 58,
   "metadata": {},
   "outputs": [
    {
     "data": {
      "text/plain": [
       "array([0], dtype=int32)"
      ]
     },
     "execution_count": 58,
     "metadata": {},
     "output_type": "execute_result"
    }
   ],
   "source": [
    "new_location_prep = [(40.86, -75.56, 20, 8, 5, 37, 0, 0)]\n",
    "kmeans_prep.predict(new_location_prep)"
   ]
  },
  {
   "cell_type": "markdown",
   "execution_count": null,
   "metadata": {},
   "source": [
    "# 2. Sklearn Fuzzy"
   ]
  },
  {
   "cell_type": "markdown",
   "execution_count": null,
   "metadata": {},
   "source": [
    "#Selecting feature"
   ]
  },
  {
   "cell_type": "code",
   "execution_count": 59,
   "metadata": {},
   "outputs": [],
   "source": [
    "clus_fuz_prep = df_prep[['Lat', 'Lon','Day', 'Month', 'Hour', 'Minute', 'Weekday', 'Holiday']]"
   ]
  },
  {
   "cell_type": "markdown",
   "execution_count": null,
   "metadata": {},
   "source": [
    "#For loop to determine the number of cluster"
   ]
  },
  {
   "cell_type": "code",
   "execution_count": 60,
   "metadata": {},
   "outputs": [],
   "source": [
    "fpcs_prep = []\n",
    "\n",
    "# n_cluster = 1 to 11\n",
    "for n_cluster in range(1, 11):\n",
    "    cntr_prep, u, u0, d, jm, p, fpc_prep = cmeans(clus_fuz_prep.T, n_cluster, 2 , error=0.01, maxiter=1000)\n",
    "    fpcs_prep.append(fpc_prep)"
   ]
  },
  {
   "cell_type": "markdown",
   "execution_count": null,
   "metadata": {},
   "source": [
    "#Plot the number of cluster"
   ]
  },
  {
   "cell_type": "code",
   "execution_count": 61,
   "metadata": {},
   "outputs": [
    {
     "data": {
      "text/plain": [
       "Text(0, 0.5, 'Fuzzy partition coefficient')"
      ]
     },
     "execution_count": 61,
     "metadata": {},
     "output_type": "execute_result"
    },
    {
     "data": {
      "image/png": "[encoded data removed]",
      "text/plain": [
       "<Figure size 576x396 with 1 Axes>"
      ]
     },
     "metadata": {},
     "output_type": "display_data"
    }
   ],
   "source": [
    "fig, ax = plt.subplots()\n",
    "ax.plot(np.r_[1:11], fpcs_prep)\n",
    "ax.set_xlabel(\"Number of centers\")\n",
    "ax.set_ylabel(\"Fuzzy partition coefficient\")"
   ]
  },
  {
   "cell_type": "markdown",
   "execution_count": null,
   "metadata": {},
   "source": [
    "#C-mean algorithm"
   ]
  },
  {
   "cell_type": "code",
   "execution_count": 62,
   "metadata": {},
   "outputs": [],
   "source": [
    "cntr_prep, u_orig, _, _, _, _, _ = cmeans(clus_fuz_prep.T, 5, 2 , error=0.01, maxiter=1000)"
   ]
  },
  {
   "cell_type": "markdown",
   "execution_count": null,
   "metadata": {},
   "source": [
    "#Predict the label"
   ]
  },
  {
   "cell_type": "code",
   "execution_count": 63,
   "metadata": {},
   "outputs": [],
   "source": [
    "u_prep, u0, d, jm, p, pc = cmeans_predict(clus_fuz_prep.T, cntr_prep, 2 , error=0.01, maxiter=1000)"
   ]
  },
  {
   "cell_type": "markdown",
   "execution_count": null,
   "metadata": {},
   "source": [
    "#Storing the centroid"
   ]
  },
  {
   "cell_type": "code",
   "execution_count": 64,
   "metadata": {},
   "outputs": [
    {
     "data": {
      "text/plain": [
       "array([[ 4.07397578e+01, -7.39731568e+01,  9.44434379e+00,\n",
       "         6.84958925e+00,  1.46984398e+01,  1.09554761e+01,\n",
       "         2.93102090e+00,  1.43119873e-05],\n",
       "       [ 4.07396496e+01, -7.39735701e+01,  9.42573480e+00,\n",
       "         6.83853754e+00,  1.44604852e+01,  4.79851317e+01,\n",
       "         2.92375159e+00,  3.89150161e-07],\n",
       "       [ 4.07395034e+01, -7.39726027e+01,  2.25677176e+01,\n",
       "         6.81456202e+00,  1.46358677e+01,  1.11017679e+01,\n",
       "         2.98111402e+00,  8.55907880e-06],\n",
       "       [ 4.07393197e+01, -7.39728605e+01,  2.25858599e+01,\n",
       "         6.80493253e+00,  1.44546526e+01,  4.77660648e+01,\n",
       "         2.98631733e+00,  3.43329730e-07],\n",
       "       [ 4.07396266e+01, -7.39732384e+01,  1.57201862e+01,\n",
       "         6.84861158e+00,  1.44403608e+01,  2.93969935e+01,\n",
       "         2.94341996e+00,  1.71808934e-06]])"
      ]
     },
     "execution_count": 64,
     "metadata": {},
     "output_type": "execute_result"
    }
   ],
   "source": [
    "centroids_fuz_prep = cntr_prep\n",
    "centroids_fuz_prep"
   ]
  },
  {
   "cell_type": "markdown",
   "execution_count": null,
   "metadata": {},
   "source": [
    "#Get the Lat and Lon to visualize"
   ]
  },
  {
   "cell_type": "code",
   "execution_count": 65,
   "metadata": {},
   "outputs": [],
   "source": [
    "clocation_fuz_prep = pd.DataFrame(centroids_fuz_prep, columns = ['Latitude', 'Longitude','Day', 'Month', 'Hour', 'Minute', 'Weekday', 'Holiday'])"
   ]
  },
  {
   "cell_type": "code",
   "execution_count": 66,
   "metadata": {},
   "outputs": [],
   "source": [
    "clocation_fuz_prep_map = clocation_fuz_prep[['Latitude', 'Longitude']]"
   ]
  },
  {
   "cell_type": "markdown",
   "execution_count": null,
   "metadata": {},
   "source": [
    "#Visualize Centroids"
   ]
  },
  {
   "cell_type": "code",
   "execution_count": 67,
   "metadata": {},
   "outputs": [
    {
     "data": {
      "text/plain": [
       "<matplotlib.collections.PathCollection at 0x7f7eef3f6c10>"
      ]
     },
     "execution_count": 67,
     "metadata": {},
     "output_type": "execute_result"
    },
    {
     "data": {
      "image/png": "[encoded data removed]",
      "text/plain": [
       "<Figure size 576x396 with 1 Axes>"
      ]
     },
     "metadata": {},
     "output_type": "display_data"
    }
   ],
   "source": [
    "plt.scatter(clocation_fuz_prep_map['Latitude'], clocation_fuz_prep_map['Longitude'], marker = \"x\", color = 'R', s = 200)"
   ]
  },
  {
   "cell_type": "markdown",
   "execution_count": null,
   "metadata": {},
   "source": [
    "#Visualize Latitude and Longitude"
   ]
  },
  {
   "cell_type": "code",
   "execution_count": 68,
   "metadata": {},
   "outputs": [
    {
     "data": {
      "text/html": [
       "<div style=\"width:100%;\"><div style=\"position:relative;width:100%;height:0;padding-bottom:60%;\"><span style=\"color:#565656\">Make this Notebook Trusted to load map: File -> Trust Notebook</span><iframe src=\"about:blank\" style=\"position:absolute;width:100%;height:100%;left:0;top:0;border:none !important;\" data-html=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 onload=\"this.contentDocument.open();this.contentDocument.write(atob(this.getAttribute('data-html')));this.contentDocument.close();\" allowfullscreen webkitallowfullscreen mozallowfullscreen></iframe></div></div>"
      ],
      "text/plain": [
       "<folium.folium.Map at 0x7f7ee4fc1910>"
      ]
     },
     "execution_count": 68,
     "metadata": {},
     "output_type": "execute_result"
    }
   ],
   "source": [
    "centroid_fuz_prep = clocation_fuz_prep_map.values.tolist()\n",
    "\n",
    "map_fuz_prep = folium.Map(location = [40.71600413400166, -73.98971408426613], zoom_start = 10)\n",
    "for point in range(0, len(centroid_fuz_prep)):\n",
    "    folium.Marker(centroid_fuz_prep[point], popup = centroid_fuz_prep[point]).add_to(map_fuz_prep)\n",
    "\n",
    "map_fuz_prep"
   ]
  },
  {
   "cell_type": "markdown",
   "execution_count": null,
   "metadata": {},
   "source": [
    "#Grouping and visualizing the total number of clusters"
   ]
  },
  {
   "cell_type": "code",
   "execution_count": 69,
   "metadata": {},
   "outputs": [
    {
     "data": {
      "text/plain": [
       "array([0, 0, 0, ..., 3, 3, 3])"
      ]
     },
     "execution_count": 69,
     "metadata": {},
     "output_type": "execute_result"
    }
   ],
   "source": [
    "label_fuz_prep = np.argmax(u_prep, axis = 0)\n",
    "label_fuz_prep"
   ]
  },
  {
   "cell_type": "code",
   "execution_count": 70,
   "metadata": {},
   "outputs": [
    {
     "data": {
      "text/html": [
       "<div>\n",
       "<style scoped>\n",
       "    .dataframe tbody tr th:only-of-type {\n",
       "        vertical-align: middle;\n",
       "    }\n",
       "\n",
       "    .dataframe tbody tr th {\n",
       "        vertical-align: top;\n",
       "    }\n",
       "\n",
       "    .dataframe thead th {\n",
       "        text-align: right;\n",
       "    }\n",
       "</style>\n",
       "<table border=\"1\" class=\"dataframe\">\n",
       "  <thead>\n",
       "    <tr style=\"text-align: right;\">\n",
       "      <th></th>\n",
       "      <th>Date_Time</th>\n",
       "      <th>Lat</th>\n",
       "      <th>Lon</th>\n",
       "      <th>Base</th>\n",
       "      <th>Month</th>\n",
       "      <th>Day</th>\n",
       "      <th>Hour</th>\n",
       "      <th>Minute</th>\n",
       "      <th>Weekday</th>\n",
       "      <th>Holiday</th>\n",
       "      <th>Clusters</th>\n",
       "    </tr>\n",
       "  </thead>\n",
       "  <tbody>\n",
       "    <tr>\n",
       "      <th>0</th>\n",
       "      <td>2014-04-01 00:11:00</td>\n",
       "      <td>40.7690</td>\n",
       "      <td>-73.9549</td>\n",
       "      <td>B02512</td>\n",
       "      <td>4</td>\n",
       "      <td>1</td>\n",
       "      <td>0</td>\n",
       "      <td>11</td>\n",
       "      <td>1</td>\n",
       "      <td>0</td>\n",
       "      <td>0</td>\n",
       "    </tr>\n",
       "    <tr>\n",
       "      <th>1</th>\n",
       "      <td>2014-04-01 00:17:00</td>\n",
       "      <td>40.7267</td>\n",
       "      <td>-74.0345</td>\n",
       "      <td>B02512</td>\n",
       "      <td>4</td>\n",
       "      <td>1</td>\n",
       "      <td>0</td>\n",
       "      <td>17</td>\n",
       "      <td>1</td>\n",
       "      <td>0</td>\n",
       "      <td>0</td>\n",
       "    </tr>\n",
       "    <tr>\n",
       "      <th>2</th>\n",
       "      <td>2014-04-01 00:21:00</td>\n",
       "      <td>40.7316</td>\n",
       "      <td>-73.9873</td>\n",
       "      <td>B02512</td>\n",
       "      <td>4</td>\n",
       "      <td>1</td>\n",
       "      <td>0</td>\n",
       "      <td>21</td>\n",
       "      <td>1</td>\n",
       "      <td>0</td>\n",
       "      <td>0</td>\n",
       "    </tr>\n",
       "    <tr>\n",
       "      <th>3</th>\n",
       "      <td>2014-04-01 00:28:00</td>\n",
       "      <td>40.7588</td>\n",
       "      <td>-73.9776</td>\n",
       "      <td>B02512</td>\n",
       "      <td>4</td>\n",
       "      <td>1</td>\n",
       "      <td>0</td>\n",
       "      <td>28</td>\n",
       "      <td>1</td>\n",
       "      <td>0</td>\n",
       "      <td>4</td>\n",
       "    </tr>\n",
       "    <tr>\n",
       "      <th>4</th>\n",
       "      <td>2014-04-01 00:33:00</td>\n",
       "      <td>40.7594</td>\n",
       "      <td>-73.9722</td>\n",
       "      <td>B02512</td>\n",
       "      <td>4</td>\n",
       "      <td>1</td>\n",
       "      <td>0</td>\n",
       "      <td>33</td>\n",
       "      <td>1</td>\n",
       "      <td>0</td>\n",
       "      <td>4</td>\n",
       "    </tr>\n",
       "    <tr>\n",
       "      <th>...</th>\n",
       "      <td>...</td>\n",
       "      <td>...</td>\n",
       "      <td>...</td>\n",
       "      <td>...</td>\n",
       "      <td>...</td>\n",
       "      <td>...</td>\n",
       "      <td>...</td>\n",
       "      <td>...</td>\n",
       "      <td>...</td>\n",
       "      <td>...</td>\n",
       "      <td>...</td>\n",
       "    </tr>\n",
       "    <tr>\n",
       "      <th>1028131</th>\n",
       "      <td>2014-09-30 22:57:00</td>\n",
       "      <td>40.7668</td>\n",
       "      <td>-73.9845</td>\n",
       "      <td>B02764</td>\n",
       "      <td>9</td>\n",
       "      <td>30</td>\n",
       "      <td>22</td>\n",
       "      <td>57</td>\n",
       "      <td>1</td>\n",
       "      <td>0</td>\n",
       "      <td>3</td>\n",
       "    </tr>\n",
       "    <tr>\n",
       "      <th>1028132</th>\n",
       "      <td>2014-09-30 22:57:00</td>\n",
       "      <td>40.6911</td>\n",
       "      <td>-74.1773</td>\n",
       "      <td>B02764</td>\n",
       "      <td>9</td>\n",
       "      <td>30</td>\n",
       "      <td>22</td>\n",
       "      <td>57</td>\n",
       "      <td>1</td>\n",
       "      <td>0</td>\n",
       "      <td>3</td>\n",
       "    </tr>\n",
       "    <tr>\n",
       "      <th>1028133</th>\n",
       "      <td>2014-09-30 22:58:00</td>\n",
       "      <td>40.8519</td>\n",
       "      <td>-73.9319</td>\n",
       "      <td>B02764</td>\n",
       "      <td>9</td>\n",
       "      <td>30</td>\n",
       "      <td>22</td>\n",
       "      <td>58</td>\n",
       "      <td>1</td>\n",
       "      <td>0</td>\n",
       "      <td>3</td>\n",
       "    </tr>\n",
       "    <tr>\n",
       "      <th>1028134</th>\n",
       "      <td>2014-09-30 22:58:00</td>\n",
       "      <td>40.7081</td>\n",
       "      <td>-74.0066</td>\n",
       "      <td>B02764</td>\n",
       "      <td>9</td>\n",
       "      <td>30</td>\n",
       "      <td>22</td>\n",
       "      <td>58</td>\n",
       "      <td>1</td>\n",
       "      <td>0</td>\n",
       "      <td>3</td>\n",
       "    </tr>\n",
       "    <tr>\n",
       "      <th>1028135</th>\n",
       "      <td>2014-09-30 22:58:00</td>\n",
       "      <td>40.7140</td>\n",
       "      <td>-73.9496</td>\n",
       "      <td>B02764</td>\n",
       "      <td>9</td>\n",
       "      <td>30</td>\n",
       "      <td>22</td>\n",
       "      <td>58</td>\n",
       "      <td>1</td>\n",
       "      <td>0</td>\n",
       "      <td>3</td>\n",
       "    </tr>\n",
       "  </tbody>\n",
       "</table>\n",
       "<p>4534327 rows × 11 columns</p>\n",
       "</div>"
      ],
      "text/plain": [
       "                  Date_Time      Lat      Lon    Base  Month  Day  Hour  \\\n",
       "0       2014-04-01 00:11:00  40.7690 -73.9549  B02512      4    1     0   \n",
       "1       2014-04-01 00:17:00  40.7267 -74.0345  B02512      4    1     0   \n",
       "2       2014-04-01 00:21:00  40.7316 -73.9873  B02512      4    1     0   \n",
       "3       2014-04-01 00:28:00  40.7588 -73.9776  B02512      4    1     0   \n",
       "4       2014-04-01 00:33:00  40.7594 -73.9722  B02512      4    1     0   \n",
       "...                     ...      ...      ...     ...    ...  ...   ...   \n",
       "1028131 2014-09-30 22:57:00  40.7668 -73.9845  B02764      9   30    22   \n",
       "1028132 2014-09-30 22:57:00  40.6911 -74.1773  B02764      9   30    22   \n",
       "1028133 2014-09-30 22:58:00  40.8519 -73.9319  B02764      9   30    22   \n",
       "1028134 2014-09-30 22:58:00  40.7081 -74.0066  B02764      9   30    22   \n",
       "1028135 2014-09-30 22:58:00  40.7140 -73.9496  B02764      9   30    22   \n",
       "\n",
       "         Minute  Weekday  Holiday  Clusters  \n",
       "0            11        1        0         0  \n",
       "1            17        1        0         0  \n",
       "2            21        1        0         0  \n",
       "3            28        1        0         4  \n",
       "4            33        1        0         4  \n",
       "...         ...      ...      ...       ...  \n",
       "1028131      57        1        0         3  \n",
       "1028132      57        1        0         3  \n",
       "1028133      58        1        0         3  \n",
       "1028134      58        1        0         3  \n",
       "1028135      58        1        0         3  \n",
       "\n",
       "[4534327 rows x 11 columns]"
      ]
     },
     "execution_count": 70,
     "metadata": {},
     "output_type": "execute_result"
    }
   ],
   "source": [
    "df_prep_new_fuz = df_prep.copy()\n",
    "df_prep_new_fuz['Clusters'] = label_fuz_prep\n",
    "df_prep_new_fuz"
   ]
  },
  {
   "cell_type": "code",
   "execution_count": 71,
   "metadata": {},
   "outputs": [
    {
     "name": "stderr",
     "output_type": "stream",
     "text": [
      "/opt/conda/lib/python3.7/site-packages/seaborn/categorical.py:3669: UserWarning: The `factorplot` function has been renamed to `catplot`. The original name will be removed in a future release. Please update your code. Note that the default `kind` in `factorplot` (`'point'`) has changed `'strip'` in `catplot`.\n",
      "  warnings.warn(msg)\n",
      "/opt/conda/lib/python3.7/site-packages/seaborn/categorical.py:3675: UserWarning: The `size` parameter has been renamed to `height`; please update your code.\n",
      "  warnings.warn(msg, UserWarning)\n"
     ]
    },
    {
     "data": {
      "text/plain": [
       "<seaborn.axisgrid.FacetGrid at 0x7f7dcb085e10>"
      ]
     },
     "execution_count": 71,
     "metadata": {},
     "output_type": "execute_result"
    },
    {
     "data": {
      "image/png": "[encoded data removed]",
      "text/plain": [
       "<Figure size 1008x504 with 1 Axes>"
      ]
     },
     "metadata": {},
     "output_type": "display_data"
    }
   ],
   "source": [
    "sb.factorplot(data = df_prep_new_fuz, x = \"Clusters\", kind = \"count\", size = 7, aspect = 2)"
   ]
  },
  {
   "cell_type": "markdown",
   "execution_count": null,
   "metadata": {},
   "source": [
    "#Visualize datapoint"
   ]
  },
  {
   "cell_type": "code",
   "execution_count": 72,
   "metadata": {},
   "outputs": [
    {
     "data": {
      "image/png": "[encoded data removed]",
      "text/plain": [
       "<Figure size 576x396 with 1 Axes>"
      ]
     },
     "metadata": {},
     "output_type": "display_data"
    }
   ],
   "source": [
    "plt.scatter(df_prep_new_fuz['Lat'], df_prep_new_fuz['Lon'], c = label_fuz_prep, cmap='viridis');"
   ]
  },
  {
   "cell_type": "markdown",
   "execution_count": null,
   "metadata": {},
   "source": [
    "# 3. Gaussian Mixture Modelling"
   ]
  },
  {
   "cell_type": "markdown",
   "execution_count": null,
   "metadata": {},
   "source": [
    "#Selecting Feature"
   ]
  },
  {
   "cell_type": "code",
   "execution_count": 73,
   "metadata": {},
   "outputs": [],
   "source": [
    "clus_gmm_prep = df_prep[['Lat', 'Lon','Day', 'Month', 'Hour', 'Minute', 'Weekday', 'Holiday']]"
   ]
  },
  {
   "cell_type": "markdown",
   "execution_count": null,
   "metadata": {},
   "source": [
    "#For loop to determine the number of cluster"
   ]
  },
  {
   "cell_type": "code",
   "execution_count": 74,
   "metadata": {},
   "outputs": [
    {
     "data": {
      "image/png": "[encoded data removed]",
      "text/plain": [
       "<Figure size 576x396 with 1 Axes>"
      ]
     },
     "metadata": {},
     "output_type": "display_data"
    }
   ],
   "source": [
    "n_components = np.arange(1, 15)\n",
    "models_gmm_prep = [GaussianMixture(n, covariance_type='full', random_state=0).fit(clus_gmm_prep) for n in n_components]\n",
    "plt.plot(n_components, [m.bic(clus_gmm_prep) for m in models_gmm_prep], label='BIC')\n",
    "plt.plot(n_components, [m.aic(clus_gmm_prep) for m in models_gmm_prep], label='AIC')\n",
    "plt.legend(loc='best')\n",
    "plt.xlabel('n_components');"
   ]
  },
  {
   "cell_type": "code",
   "execution_count": 75,
   "metadata": {},
   "outputs": [
    {
     "data": {
      "text/plain": [
       "GaussianMixture(n_components=5)"
      ]
     },
     "execution_count": 75,
     "metadata": {},
     "output_type": "execute_result"
    }
   ],
   "source": [
    "clf_prep = mixture.GaussianMixture(n_components=5, covariance_type='full')\n",
    "clf_prep.fit(clus_gmm_prep)\n"
   ]
  },
  {
   "cell_type": "code",
   "execution_count": 76,
   "metadata": {},
   "outputs": [],
   "source": [
    "label_gmm_prep = clf_prep.predict(clus_gmm_prep)"
   ]
  },
  {
   "cell_type": "code",
   "execution_count": 77,
   "metadata": {},
   "outputs": [
    {
     "data": {
      "text/html": [
       "<div>\n",
       "<style scoped>\n",
       "    .dataframe tbody tr th:only-of-type {\n",
       "        vertical-align: middle;\n",
       "    }\n",
       "\n",
       "    .dataframe tbody tr th {\n",
       "        vertical-align: top;\n",
       "    }\n",
       "\n",
       "    .dataframe thead th {\n",
       "        text-align: right;\n",
       "    }\n",
       "</style>\n",
       "<table border=\"1\" class=\"dataframe\">\n",
       "  <thead>\n",
       "    <tr style=\"text-align: right;\">\n",
       "      <th></th>\n",
       "      <th>Date/Time</th>\n",
       "      <th>Lat</th>\n",
       "      <th>Lon</th>\n",
       "      <th>Base</th>\n",
       "      <th>Clusters</th>\n",
       "    </tr>\n",
       "  </thead>\n",
       "  <tbody>\n",
       "    <tr>\n",
       "      <th>0</th>\n",
       "      <td>4/1/2014 0:11:00</td>\n",
       "      <td>40.7690</td>\n",
       "      <td>-73.9549</td>\n",
       "      <td>B02512</td>\n",
       "      <td>2</td>\n",
       "    </tr>\n",
       "    <tr>\n",
       "      <th>1</th>\n",
       "      <td>4/1/2014 0:17:00</td>\n",
       "      <td>40.7267</td>\n",
       "      <td>-74.0345</td>\n",
       "      <td>B02512</td>\n",
       "      <td>3</td>\n",
       "    </tr>\n",
       "    <tr>\n",
       "      <th>2</th>\n",
       "      <td>4/1/2014 0:21:00</td>\n",
       "      <td>40.7316</td>\n",
       "      <td>-73.9873</td>\n",
       "      <td>B02512</td>\n",
       "      <td>2</td>\n",
       "    </tr>\n",
       "    <tr>\n",
       "      <th>3</th>\n",
       "      <td>4/1/2014 0:28:00</td>\n",
       "      <td>40.7588</td>\n",
       "      <td>-73.9776</td>\n",
       "      <td>B02512</td>\n",
       "      <td>0</td>\n",
       "    </tr>\n",
       "    <tr>\n",
       "      <th>4</th>\n",
       "      <td>4/1/2014 0:33:00</td>\n",
       "      <td>40.7594</td>\n",
       "      <td>-73.9722</td>\n",
       "      <td>B02512</td>\n",
       "      <td>0</td>\n",
       "    </tr>\n",
       "    <tr>\n",
       "      <th>...</th>\n",
       "      <td>...</td>\n",
       "      <td>...</td>\n",
       "      <td>...</td>\n",
       "      <td>...</td>\n",
       "      <td>...</td>\n",
       "    </tr>\n",
       "    <tr>\n",
       "      <th>1028131</th>\n",
       "      <td>9/30/2014 22:57:00</td>\n",
       "      <td>40.7668</td>\n",
       "      <td>-73.9845</td>\n",
       "      <td>B02764</td>\n",
       "      <td>0</td>\n",
       "    </tr>\n",
       "    <tr>\n",
       "      <th>1028132</th>\n",
       "      <td>9/30/2014 22:57:00</td>\n",
       "      <td>40.6911</td>\n",
       "      <td>-74.1773</td>\n",
       "      <td>B02764</td>\n",
       "      <td>4</td>\n",
       "    </tr>\n",
       "    <tr>\n",
       "      <th>1028133</th>\n",
       "      <td>9/30/2014 22:58:00</td>\n",
       "      <td>40.8519</td>\n",
       "      <td>-73.9319</td>\n",
       "      <td>B02764</td>\n",
       "      <td>4</td>\n",
       "    </tr>\n",
       "    <tr>\n",
       "      <th>1028134</th>\n",
       "      <td>9/30/2014 22:58:00</td>\n",
       "      <td>40.7081</td>\n",
       "      <td>-74.0066</td>\n",
       "      <td>B02764</td>\n",
       "      <td>0</td>\n",
       "    </tr>\n",
       "    <tr>\n",
       "      <th>1028135</th>\n",
       "      <td>9/30/2014 22:58:00</td>\n",
       "      <td>40.7140</td>\n",
       "      <td>-73.9496</td>\n",
       "      <td>B02764</td>\n",
       "      <td>3</td>\n",
       "    </tr>\n",
       "  </tbody>\n",
       "</table>\n",
       "<p>4534327 rows × 5 columns</p>\n",
       "</div>"
      ],
      "text/plain": [
       "                  Date/Time      Lat      Lon    Base  Clusters\n",
       "0          4/1/2014 0:11:00  40.7690 -73.9549  B02512         2\n",
       "1          4/1/2014 0:17:00  40.7267 -74.0345  B02512         3\n",
       "2          4/1/2014 0:21:00  40.7316 -73.9873  B02512         2\n",
       "3          4/1/2014 0:28:00  40.7588 -73.9776  B02512         0\n",
       "4          4/1/2014 0:33:00  40.7594 -73.9722  B02512         0\n",
       "...                     ...      ...      ...     ...       ...\n",
       "1028131  9/30/2014 22:57:00  40.7668 -73.9845  B02764         0\n",
       "1028132  9/30/2014 22:57:00  40.6911 -74.1773  B02764         4\n",
       "1028133  9/30/2014 22:58:00  40.8519 -73.9319  B02764         4\n",
       "1028134  9/30/2014 22:58:00  40.7081 -74.0066  B02764         0\n",
       "1028135  9/30/2014 22:58:00  40.7140 -73.9496  B02764         3\n",
       "\n",
       "[4534327 rows x 5 columns]"
      ]
     },
     "execution_count": 77,
     "metadata": {},
     "output_type": "execute_result"
    }
   ],
   "source": [
    "df_new_prep_gmm = df_ori.copy()\n",
    "df_new_prep_gmm['Clusters'] = label_gmm_prep\n",
    "df_new_prep_gmm"
   ]
  },
  {
   "cell_type": "code",
   "execution_count": 78,
   "metadata": {},
   "outputs": [
    {
     "data": {
      "text/plain": [
       "array([2, 3, 0, 4, 1])"
      ]
     },
     "execution_count": 78,
     "metadata": {},
     "output_type": "execute_result"
    }
   ],
   "source": [
    "df_new_prep_gmm['Clusters'].unique()"
   ]
  },
  {
   "cell_type": "code",
   "execution_count": 79,
   "metadata": {},
   "outputs": [
    {
     "data": {
      "image/png": "[encoded data removed]",
      "text/plain": [
       "<Figure size 576x396 with 1 Axes>"
      ]
     },
     "metadata": {},
     "output_type": "display_data"
    }
   ],
   "source": [
    "plt.scatter(df_new_prep_gmm['Lat'], df_new_prep_gmm['Lon'], c = label_gmm_prep, cmap='viridis');"
   ]
  },
  {
   "cell_type": "markdown",
   "execution_count": null,
   "metadata": {},
   "source": [
    "#Predict new location"
   ]
  },
  {
   "cell_type": "code",
   "execution_count": 80,
   "metadata": {},
   "outputs": [
    {
     "data": {
      "text/plain": [
       "array([4])"
      ]
     },
     "execution_count": 80,
     "metadata": {},
     "output_type": "execute_result"
    }
   ],
   "source": [
    "new_location_prep_gmm = [(40.86, -75.56, 20, 8, 5, 37, 0, 0)]\n",
    "clf_prep.predict(new_location_prep_gmm)"
   ]
  }
 ],
 "metadata": {
  "kernelspec": {
   "display_name": "Python 3",
   "language": "python",
   "name": "python3"
  },
  "language_info": {
   "codemirror_mode": {
    "name": "ipython",
    "version": 3
   },
   "file_extension": ".py",
   "mimetype": "text/x-python",
   "name": "python",
   "nbconvert_exporter": "python",
   "pygments_lexer": "ipython3",
   "version": "3.7.6"
  }
 },
 "nbformat": 4,
 "nbformat_minor": 4
}
